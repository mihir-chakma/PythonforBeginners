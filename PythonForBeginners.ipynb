{
  "nbformat": 4,
  "nbformat_minor": 0,
  "metadata": {
    "colab": {
      "provenance": [],
      "collapsed_sections": [
        "hmTPLVBY4l6-",
        "TPk35HEo_Qqv",
        "K_BkVzQPASAB",
        "zuJviJEJQroi",
        "corHGKAjZi5E",
        "UEZYrewNJiLr",
        "-GhpT_TryDDf",
        "1oqxYthrUV5z",
        "eSSGpHKdXBc-",
        "2k31pjzvME28",
        "va6GCPWxbLnp",
        "ih9QW3mlwhmz",
        "jQ75PQdR4wiX",
        "mqVBeS7l5J5_",
        "gNSxLgR89J2X",
        "wZaktoPa9QBH"
      ]
    },
    "kernelspec": {
      "name": "python3",
      "display_name": "Python 3"
    },
    "language_info": {
      "name": "python"
    }
  },
  "cells": [
    {
      "cell_type": "markdown",
      "source": [
        "# **Python For Beginners**"
      ],
      "metadata": {
        "id": "GI2m_MXN4pbd"
      }
    },
    {
      "cell_type": "markdown",
      "source": [
        "## **1. Introduction**"
      ],
      "metadata": {
        "id": "hmTPLVBY4l6-"
      }
    },
    {
      "cell_type": "markdown",
      "source": [
        "**What is Python?**\n",
        "\n",
        "Python is an easy to understand, general-purpose programming language. It's design philosophy emphasises code readability. Python developed by Guido van Rossum in 1991."
      ],
      "metadata": {
        "id": "eeNQYT2N4-yN"
      }
    },
    {
      "cell_type": "markdown",
      "source": [
        "**Advantages og Python?**\n",
        "\n",
        "- Easy to code\n",
        "- Improved productivity\n",
        "- Vast library support\n",
        "- A lot of career options for you\n",
        "- Used almost everywhere "
      ],
      "metadata": {
        "id": "KRtvbKlf6YgI"
      }
    },
    {
      "cell_type": "markdown",
      "source": [
        "**Used companies**\n",
        "\n",
        "- Google\n",
        "- Facebook\n",
        "- Netflix\n",
        "- and many more "
      ],
      "metadata": {
        "id": "oYBX4hUq7Are"
      }
    },
    {
      "cell_type": "markdown",
      "source": [
        "**Python can be used for:**\n",
        "\n",
        "- AI and Machine Learning(ML)\n",
        "- Data analytics\n",
        "- Programming applications\n",
        "- Web development \n",
        "- Game development \n",
        "- Many more...\n"
      ],
      "metadata": {
        "id": "Gg3Mxwu_8KZ-"
      }
    },
    {
      "cell_type": "code",
      "execution_count": null,
      "metadata": {
        "id": "NBrjkjF-4gRI"
      },
      "outputs": [],
      "source": [
        "print(\"Hello, World!\")"
      ]
    },
    {
      "cell_type": "markdown",
      "source": [
        "## **2. Installations**"
      ],
      "metadata": {
        "id": "TPk35HEo_Qqv"
      }
    },
    {
      "cell_type": "markdown",
      "source": [
        "Install the python from official website and install it to your machine.\n",
        "\n",
        "**IDEs**\n",
        "\n",
        "- Anacoda\n",
        "- PyCharm\n",
        "- VS Code\n",
        "- Google Colabs"
      ],
      "metadata": {
        "id": "LdO61xUQ_brs"
      }
    },
    {
      "cell_type": "markdown",
      "source": [
        "## **3. Basic Fundamentals of Python**"
      ],
      "metadata": {
        "id": "K_BkVzQPASAB"
      }
    },
    {
      "cell_type": "markdown",
      "source": [
        "**Hello, World in Python**"
      ],
      "metadata": {
        "id": "V_2XWPolAfME"
      }
    },
    {
      "cell_type": "code",
      "source": [
        "print(\"Hello, World! \")"
      ],
      "metadata": {
        "id": "QglpjMEYA56M"
      },
      "execution_count": null,
      "outputs": []
    },
    {
      "cell_type": "markdown",
      "source": [
        "**Variables**\n",
        "\n",
        "- Variables are place holders for storing data\n",
        "\n",
        "Naming a variable\n",
        "\n",
        "Rules for naming Python variables:\n",
        "\n",
        "- A variable name must start with a letter or the underscore character\n",
        "- A variable name can't start with a number\n",
        "- A variable name can only contain alpha-numeric characters and underscores (A-Z, a-z, 0-9, and _)\n",
        "- Inbuilt keywords should not be used as identifiers"
      ],
      "metadata": {
        "id": "94XGkX_nA1xl"
      }
    },
    {
      "cell_type": "markdown",
      "source": [
        "**`x = 10`** \n",
        "\n",
        "- **x** -> Variable name\n",
        "- **=** -> Assignment operator\n",
        "- **10** -> Value to be assigned "
      ],
      "metadata": {
        "id": "CkD6nDgiCRRH"
      }
    },
    {
      "cell_type": "code",
      "source": [
        "a = 10\n",
        "print(a)"
      ],
      "metadata": {
        "id": "syWGNTAkDofN"
      },
      "execution_count": null,
      "outputs": []
    },
    {
      "cell_type": "code",
      "source": [
        "# 3x = 5 #error "
      ],
      "metadata": {
        "id": "SgMVCjjoDsv0"
      },
      "execution_count": null,
      "outputs": []
    },
    {
      "cell_type": "code",
      "source": [
        "mihir_11 = 25\n",
        "print(mihir_11)"
      ],
      "metadata": {
        "id": "-9RncKSXDz9k"
      },
      "execution_count": null,
      "outputs": []
    },
    {
      "cell_type": "code",
      "source": [
        "help(\"keywords\")"
      ],
      "metadata": {
        "id": "LvoM8OUND8s1"
      },
      "execution_count": null,
      "outputs": []
    },
    {
      "cell_type": "markdown",
      "source": [
        "**Stack & Heap Memory**"
      ],
      "metadata": {
        "id": "i_G_ue3lEXCf"
      }
    },
    {
      "cell_type": "markdown",
      "source": [
        "**Variables** are store in **Stack** memory:\n",
        "\n",
        "**Values** are store in **Heap** memory"
      ],
      "metadata": {
        "id": "VU-qmxPxFQdF"
      }
    },
    {
      "cell_type": "code",
      "source": [
        "x = 5\n",
        "y = 10 "
      ],
      "metadata": {
        "id": "dam8aV6VFldn"
      },
      "execution_count": null,
      "outputs": []
    },
    {
      "cell_type": "markdown",
      "source": [
        "**ID function**"
      ],
      "metadata": {
        "id": "0g20ThuaF0tE"
      }
    },
    {
      "cell_type": "code",
      "source": [
        "x = 22\n",
        "id(x)"
      ],
      "metadata": {
        "id": "JCe_U77FGGkc"
      },
      "execution_count": null,
      "outputs": []
    },
    {
      "cell_type": "code",
      "source": [
        "x = 55\n",
        "print(id(x))"
      ],
      "metadata": {
        "id": "pjy8O3yZF6aX"
      },
      "execution_count": null,
      "outputs": []
    },
    {
      "cell_type": "code",
      "source": [
        "print(x)"
      ],
      "metadata": {
        "id": "GzOPIl-DGSZb"
      },
      "execution_count": null,
      "outputs": []
    },
    {
      "cell_type": "markdown",
      "source": [
        "**Python Comments**"
      ],
      "metadata": {
        "id": "W4fXClaO4Aly"
      }
    },
    {
      "cell_type": "code",
      "source": [
        "# a is 10 \n",
        "a = 10\n",
        "# b = 20 \n",
        "print(a)\n",
        "# print(b)"
      ],
      "metadata": {
        "id": "Jjc37hJb4LKe"
      },
      "execution_count": null,
      "outputs": []
    },
    {
      "cell_type": "markdown",
      "source": [
        "**Data Types in Python**\n",
        "\n",
        "- Integersn (int)\n",
        "- Floats\n",
        "- Booleans\n",
        "- Strings\n",
        "- None \n"
      ],
      "metadata": {
        "id": "bU05oxFn4nT1"
      }
    },
    {
      "cell_type": "markdown",
      "source": [
        "***Integer or int***"
      ],
      "metadata": {
        "id": "K-tw8vdMAuYM"
      }
    },
    {
      "cell_type": "code",
      "source": [
        "# int \n",
        "a = 10\n",
        "print(a)"
      ],
      "metadata": {
        "id": "7O7jPRIh5f8V"
      },
      "execution_count": null,
      "outputs": []
    },
    {
      "cell_type": "markdown",
      "source": [
        "If you want to see what type of the variable, use `type() `function."
      ],
      "metadata": {
        "id": "ZBP8MzCf6WLr"
      }
    },
    {
      "cell_type": "code",
      "source": [
        "# type \n",
        "a = 20\n",
        "print(type(a))"
      ],
      "metadata": {
        "id": "6cEg2GIn6M-c"
      },
      "execution_count": null,
      "outputs": []
    },
    {
      "cell_type": "markdown",
      "source": [
        "***Float***"
      ],
      "metadata": {
        "id": "selNFdKfArtV"
      }
    },
    {
      "cell_type": "code",
      "source": [
        "# float \n",
        "f = 10.55\n",
        "print(f)\n",
        "print(type(f))"
      ],
      "metadata": {
        "id": "ikyuCR0m6moA"
      },
      "execution_count": null,
      "outputs": []
    },
    {
      "cell_type": "markdown",
      "source": [
        "***Boolean***"
      ],
      "metadata": {
        "id": "MPK8uY4iAoQw"
      }
    },
    {
      "cell_type": "code",
      "source": [
        "# boolean or bool, True or False \n",
        "b = True\n",
        "print(b)\n",
        "\n",
        "b1 = False\n",
        "print(b1)\n",
        "\n",
        "# correct: True / False \n",
        "# incorrect: true / false "
      ],
      "metadata": {
        "id": "RrahwYlp6xc4"
      },
      "execution_count": null,
      "outputs": []
    },
    {
      "cell_type": "markdown",
      "source": [
        "***Strings***"
      ],
      "metadata": {
        "id": "jfTSe7zR7vIC"
      }
    },
    {
      "cell_type": "code",
      "source": [
        "name = \"Advaith @101\"\n",
        "print(name)"
      ],
      "metadata": {
        "id": "puz-3a1Y7yz0"
      },
      "execution_count": null,
      "outputs": []
    },
    {
      "cell_type": "code",
      "source": [
        "s = 'Hello, Python'\n",
        "print(s)"
      ],
      "metadata": {
        "id": "PPF1S5BJ7_SA"
      },
      "execution_count": null,
      "outputs": []
    },
    {
      "cell_type": "markdown",
      "source": [
        "***Multiple Strings***"
      ],
      "metadata": {
        "id": "dz77Ivj6A0bf"
      }
    },
    {
      "cell_type": "code",
      "source": [
        "multi_str = \"\"\"This is a\n",
        "Multiline String\"\"\"\n",
        "\n",
        "print(multi_str)\n",
        "\n",
        "m = '''Single multiple string'''\n",
        "print(m)\n",
        "print(type(m))"
      ],
      "metadata": {
        "id": "aY1afZ6_8E3j"
      },
      "execution_count": null,
      "outputs": []
    },
    {
      "cell_type": "markdown",
      "source": [
        "***None***"
      ],
      "metadata": {
        "id": "HVydy_HDAj5X"
      }
    },
    {
      "cell_type": "code",
      "source": [
        "n = None\n",
        "print(n)\n",
        "print(type(n))"
      ],
      "metadata": {
        "id": "6SF37YxeAcl3"
      },
      "execution_count": null,
      "outputs": []
    },
    {
      "cell_type": "markdown",
      "source": [
        "**Input Functions in Python**"
      ],
      "metadata": {
        "id": "ABF2aPfdBFI1"
      }
    },
    {
      "cell_type": "code",
      "source": [
        "name = input(\"What is your name? \")\n",
        "\n",
        "print(f\"My name is {name}\")"
      ],
      "metadata": {
        "id": "uz4bV76_Mw5v"
      },
      "execution_count": null,
      "outputs": []
    },
    {
      "cell_type": "markdown",
      "source": [
        "**Type Conversion**"
      ],
      "metadata": {
        "id": "aaqnsPNWOuC7"
      }
    },
    {
      "cell_type": "code",
      "source": [
        "a = 10\n",
        "b = float(a) # convert int into float \n",
        "print(b)\n",
        "\n",
        "c = \"14\"\n",
        "d = int(c)\n",
        "print(d)"
      ],
      "metadata": {
        "id": "iPzE0aJJO-Vu"
      },
      "execution_count": null,
      "outputs": []
    },
    {
      "cell_type": "code",
      "source": [
        "# number as input \n",
        "x = int(input(\"Enter a number: \"))\n",
        "\n",
        "print(x)"
      ],
      "metadata": {
        "id": "F_WQy4SWNMkK"
      },
      "execution_count": null,
      "outputs": []
    },
    {
      "cell_type": "code",
      "source": [
        "# float as input \n",
        "y = float(input(\"Enter a float number: \"))\n",
        "print(y)"
      ],
      "metadata": {
        "id": "tF29Kfg0OqxW"
      },
      "execution_count": null,
      "outputs": []
    },
    {
      "cell_type": "markdown",
      "source": [
        "## **4. Print Function**"
      ],
      "metadata": {
        "id": "zuJviJEJQroi"
      }
    },
    {
      "cell_type": "markdown",
      "source": [
        "***Printing multiple values***"
      ],
      "metadata": {
        "id": "caqeozJKQzGh"
      }
    },
    {
      "cell_type": "code",
      "source": [
        "print(\"Emma\", \"Lisa\", \"Devid\", 24, 34, 45, 78.50, 89.33, 95.12)"
      ],
      "metadata": {
        "id": "xtFtzZiQV6O1"
      },
      "execution_count": null,
      "outputs": []
    },
    {
      "cell_type": "markdown",
      "source": [
        "***default Sep & End in print***"
      ],
      "metadata": {
        "id": "51fXTXt9WnHk"
      }
    },
    {
      "cell_type": "code",
      "source": [
        "print(\"Emma\", \"Lisa\", \"Devid\", 24, 34, 45, 78.50, 89.33, 95.12, sep=\", \")"
      ],
      "metadata": {
        "id": "6v4PhoJxW2a4"
      },
      "execution_count": null,
      "outputs": []
    },
    {
      "cell_type": "code",
      "source": [
        "print(\"Mihir\", 25, sep=\"\\n\")"
      ],
      "metadata": {
        "id": "HZ6OeEm3XD9P"
      },
      "execution_count": null,
      "outputs": []
    },
    {
      "cell_type": "markdown",
      "source": [
        "***Changing default value of seperator***"
      ],
      "metadata": {
        "id": "6E-YEkUfXfNA"
      }
    },
    {
      "cell_type": "code",
      "source": [
        "print(\"Lisa\", 24, end=\" \")\n",
        "print(\"Emma\", 25)"
      ],
      "metadata": {
        "id": "QAIjgsdmX5w5"
      },
      "execution_count": null,
      "outputs": []
    },
    {
      "cell_type": "code",
      "source": [
        "print(\"Shreya\", 30, sep=\"\\n\", end=\" -> \")\n",
        "print(31, 32, end=\" \")"
      ],
      "metadata": {
        "id": "xE3nKT7tY0Y4"
      },
      "execution_count": null,
      "outputs": []
    },
    {
      "cell_type": "markdown",
      "source": [
        "## **5. Operators in Python**"
      ],
      "metadata": {
        "id": "corHGKAjZi5E"
      }
    },
    {
      "cell_type": "markdown",
      "source": [
        "***Intro to Python Operators***"
      ],
      "metadata": {
        "id": "PN8QdqwKaRuh"
      }
    },
    {
      "cell_type": "markdown",
      "source": [
        "**Expression**\n",
        "\n",
        "- Operators\n",
        "- Operands\n",
        "  - Operators + Operands = Expression\n",
        "\n",
        "\n",
        "`x = 10`\n",
        "\n",
        "`y = 5`\n",
        "\n",
        "`x + y = 15`\n",
        "\n",
        "An operator in a programming language is a symbol that to perform specific mathematical, relational or logical operation and produce final result."
      ],
      "metadata": {
        "id": "QuSGNrPEZ72m"
      }
    },
    {
      "cell_type": "code",
      "source": [
        "x, y = 5, 10\n",
        "z = x + y\n",
        "print(z)"
      ],
      "metadata": {
        "id": "2Cb7b0ZTbJ7Q"
      },
      "execution_count": null,
      "outputs": []
    },
    {
      "cell_type": "markdown",
      "source": [
        "***Arithmetic Operators***\n",
        "\n",
        "- Addition (+)\n",
        "- Subtraction (-)\n",
        "- Multiplication (*)\n",
        "- Division (/)\n",
        "- Module (%)\n",
        "- Floor Division (//)\n",
        "- To the power (**)\n"
      ],
      "metadata": {
        "id": "afReY5BQbetn"
      }
    },
    {
      "cell_type": "code",
      "source": [
        "a = 5\n",
        "b = 3\n",
        "\n",
        "print(a + b)"
      ],
      "metadata": {
        "id": "O2wIHUqbcE_x"
      },
      "execution_count": null,
      "outputs": []
    },
    {
      "cell_type": "code",
      "source": [
        "print(a - b)"
      ],
      "metadata": {
        "id": "hhdZZcrlch6D"
      },
      "execution_count": null,
      "outputs": []
    },
    {
      "cell_type": "code",
      "source": [
        "print(a * b)"
      ],
      "metadata": {
        "id": "A0HDC0docsVp"
      },
      "execution_count": null,
      "outputs": []
    },
    {
      "cell_type": "code",
      "source": [
        "# divison always print the float values \n",
        "print(a / b)\n",
        "print(10 / 4)"
      ],
      "metadata": {
        "id": "LPCBRj4VcmBi"
      },
      "execution_count": null,
      "outputs": []
    },
    {
      "cell_type": "markdown",
      "source": [
        "**String Concatenation**"
      ],
      "metadata": {
        "id": "4kI-1Dq4dgU3"
      }
    },
    {
      "cell_type": "code",
      "source": [
        "first = \"Mihir\"\n",
        "last = \"Chakma\"\n",
        "\n",
        "print(first + last)\n",
        "\n",
        "# f string \n",
        "print(f\"{first} {last}\") "
      ],
      "metadata": {
        "id": "TJKlyk5WdkKo"
      },
      "execution_count": null,
      "outputs": []
    },
    {
      "cell_type": "code",
      "source": [
        "name = \"Krishtina\"\n",
        "print(name * 3)"
      ],
      "metadata": {
        "id": "_ZsZ4KZ9eQhJ"
      },
      "execution_count": null,
      "outputs": []
    },
    {
      "cell_type": "markdown",
      "source": [
        "***Arithmetic Operators Continued***"
      ],
      "metadata": {
        "id": "lvSJRHOQfi6I"
      }
    },
    {
      "cell_type": "code",
      "source": [
        "# module operator \n",
        "a = 5\n",
        "b = 3\n",
        "\n",
        "print(a % b)\n",
        "print(10 % 5)\n",
        "print(10 % 5)"
      ],
      "metadata": {
        "id": "L_ZUcC_2e33n"
      },
      "execution_count": null,
      "outputs": []
    },
    {
      "cell_type": "code",
      "source": [
        "# floor division operator\n",
        "# in floor division, the result is floored to the nearest smaller integer\n",
        "x = 10\n",
        "y = 5\n",
        "\n",
        "print(x // y)\n",
        "print(13 // 3)\n",
        "print(-5 // 2)"
      ],
      "metadata": {
        "id": "gECEYUlsfqbR"
      },
      "execution_count": null,
      "outputs": []
    },
    {
      "cell_type": "code",
      "source": [
        "# To the power operator accepts two values base and power\n",
        "c = 10\n",
        "d = 3\n",
        "\n",
        "print(c ** b)\n",
        "print(5 ** 4)\n",
        "print(3 ** 5)"
      ],
      "metadata": {
        "id": "4Iq6ulYxgfn4"
      },
      "execution_count": null,
      "outputs": []
    },
    {
      "cell_type": "markdown",
      "source": [
        "**Comparison Operators**\n",
        "\n",
        "- `>` (Greater than)\n",
        "- `<` (Less than)\n",
        "- `>=` (Greater than or Equal to)\n",
        "- `<=` (Less than or Equal to)\n",
        "- `==` (Equal to - True if equal)\n",
        "- `!=` (Not Equal to - True if not equal)\n",
        "\n",
        "**Comparison operators can be used to compare values in mathematical terms.**"
      ],
      "metadata": {
        "id": "4bXMJCHng7_J"
      }
    },
    {
      "cell_type": "code",
      "source": [
        "# greater than\n",
        "a = 6\n",
        "b = 4\n",
        "\n",
        "print(a > b)\n",
        "print(5 > 10)"
      ],
      "metadata": {
        "id": "0rCY1TiklnEq"
      },
      "execution_count": null,
      "outputs": []
    },
    {
      "cell_type": "code",
      "source": [
        "# less than\n",
        "print(10 < 5)\n",
        "print(5 < 10)"
      ],
      "metadata": {
        "id": "LdO7GR3wnuUL"
      },
      "execution_count": null,
      "outputs": []
    },
    {
      "cell_type": "code",
      "source": [
        "# greaten than or equal to \n",
        "print(10 >= 9)\n",
        "print(5 >= 10)"
      ],
      "metadata": {
        "id": "aL-LnShVn5iT"
      },
      "execution_count": null,
      "outputs": []
    },
    {
      "cell_type": "code",
      "source": [
        "# less than or equal to\n",
        "print(10 <= 5)\n",
        "print(20 <= 50)"
      ],
      "metadata": {
        "id": "NZpvzI7foGXw"
      },
      "execution_count": null,
      "outputs": []
    },
    {
      "cell_type": "code",
      "source": [
        "# equal to \n",
        "a = 6\n",
        "b = 4\n",
        "\n",
        "print(a == b)\n",
        "print( 5 == 5)"
      ],
      "metadata": {
        "id": "R73uAnFgmnXZ"
      },
      "execution_count": null,
      "outputs": []
    },
    {
      "cell_type": "code",
      "source": [
        "# not equal to \n",
        "print( a != b)\n",
        "print(4 != 4)"
      ],
      "metadata": {
        "id": "C0s2aK8tmzvT"
      },
      "execution_count": null,
      "outputs": []
    },
    {
      "cell_type": "markdown",
      "source": [
        "**Assignmnet Operators**\n",
        "\n",
        "- =\n",
        "- +=\n",
        "- -=\n",
        "- *= \n",
        "- /= \n"
      ],
      "metadata": {
        "id": "_1DG_I1BoePJ"
      }
    },
    {
      "cell_type": "code",
      "source": [
        "a = 5\n",
        "\n",
        "a = a + 5\n",
        "print(a)"
      ],
      "metadata": {
        "id": "c94sdgtjo-J5"
      },
      "execution_count": null,
      "outputs": []
    },
    {
      "cell_type": "code",
      "source": [
        "# a+= 3 is same as a = a + 3\n",
        "\n",
        "a = 10\n",
        "\n",
        "a += 3\n",
        "print(a)"
      ],
      "metadata": {
        "id": "aXjCZXgnpCnQ"
      },
      "execution_count": null,
      "outputs": []
    },
    {
      "cell_type": "code",
      "source": [
        "x = 5\n",
        "x -= 2\n",
        "\n",
        "print(x)"
      ],
      "metadata": {
        "id": "vqANY98fp8Da"
      },
      "execution_count": null,
      "outputs": []
    },
    {
      "cell_type": "markdown",
      "source": [
        "**Logical Operators**\n",
        "\n",
        "- and \n",
        "- or \n",
        "- not "
      ],
      "metadata": {
        "id": "omxEkLQGqI9P"
      }
    },
    {
      "cell_type": "markdown",
      "source": [
        "***Logical `and`***"
      ],
      "metadata": {
        "id": "7yMsdNuyGDXQ"
      }
    },
    {
      "cell_type": "code",
      "source": [
        "# and \n",
        "True and True # True\n",
        "True and False # False\n",
        "False and True # False\n",
        "False and False # False"
      ],
      "metadata": {
        "id": "mm76o9TYr5wj"
      },
      "execution_count": null,
      "outputs": []
    },
    {
      "cell_type": "code",
      "source": [
        "print(5 > 4 and 5 < 10)\n",
        "print(4 > 2 and 20 < 5)"
      ],
      "metadata": {
        "id": "lZRHyMc-sRse"
      },
      "execution_count": null,
      "outputs": []
    },
    {
      "cell_type": "markdown",
      "source": [
        "***Logical `or`***"
      ],
      "metadata": {
        "id": "7BBEXAhGs1cv"
      }
    },
    {
      "cell_type": "code",
      "source": [
        "True or True # True\n",
        "True or False # True\n",
        "False or True # True\n",
        "False or False # False "
      ],
      "metadata": {
        "id": "0lkU9ewNDF7U"
      },
      "execution_count": null,
      "outputs": []
    },
    {
      "cell_type": "code",
      "source": [
        "print(5 > 2 or 3 < 8)\n",
        "print(5 == 5 or 9 == 9)\n",
        "print(3 > 5 or 6 < 3)"
      ],
      "metadata": {
        "id": "KBTIddjLDbqa"
      },
      "execution_count": null,
      "outputs": []
    },
    {
      "cell_type": "markdown",
      "source": [
        "***Logical `not`***"
      ],
      "metadata": {
        "id": "tXjSG988Dveq"
      }
    },
    {
      "cell_type": "code",
      "source": [
        "not True # False\n",
        "not False # True "
      ],
      "metadata": {
        "id": "fFs_zGObFc6k"
      },
      "execution_count": null,
      "outputs": []
    },
    {
      "cell_type": "code",
      "source": [
        "print(not 10 > 15) # True\n",
        "print(not 10 > 5) # False"
      ],
      "metadata": {
        "id": "Quv72ldhFkoJ"
      },
      "execution_count": null,
      "outputs": []
    },
    {
      "cell_type": "markdown",
      "source": [
        "**Special Operators**\n",
        "\n",
        "- `in` Operator (Membership Operator)\n",
        "- `is` Operator\n"
      ],
      "metadata": {
        "id": "z_q2pfxaGP9K"
      }
    },
    {
      "cell_type": "markdown",
      "source": [
        "**`in`** operator tells you if an object is part of other object or not."
      ],
      "metadata": {
        "id": "OBBADpY8HJmb"
      }
    },
    {
      "cell_type": "code",
      "source": [
        "name = \"Krishtina Shree Yadav\"\n",
        "\n",
        "print(\"Krishtina\" in name)\n",
        "print(\"krishtina\" in name)\n",
        "print(\"Vaday\" in name)\n",
        "print(\"Yadav\" in name)"
      ],
      "metadata": {
        "id": "rr_f3i1aHSm8"
      },
      "execution_count": null,
      "outputs": []
    },
    {
      "cell_type": "markdown",
      "source": [
        "**`is`** operator tells you if both the objects are at the same memory location."
      ],
      "metadata": {
        "id": "hFO6rGKyIhCb"
      }
    },
    {
      "cell_type": "code",
      "source": [
        "a = 5\n",
        "b = 5\n",
        "\n",
        "print(id(a), id(b))\n",
        "\n",
        "print(a is b) # True "
      ],
      "metadata": {
        "id": "DBqEmmBzItaA"
      },
      "execution_count": null,
      "outputs": []
    },
    {
      "cell_type": "code",
      "source": [
        "c = 10\n",
        "d = 20\n",
        "\n",
        "print(id(c), id(d))\n",
        "\n",
        "print(c is d) # False "
      ],
      "metadata": {
        "id": "Gv0rWeEpI5Ey"
      },
      "execution_count": null,
      "outputs": []
    },
    {
      "cell_type": "markdown",
      "source": [
        "## **6. Control Flow**"
      ],
      "metadata": {
        "id": "UEZYrewNJiLr"
      }
    },
    {
      "cell_type": "markdown",
      "source": [
        "**if...else statement**"
      ],
      "metadata": {
        "id": "q9ElKqTkOr7m"
      }
    },
    {
      "cell_type": "code",
      "source": [
        "# age = 20\n",
        "\n",
        "age = int(input(\"Enter your age: \"))\n",
        "\n",
        "if age > 18:\n",
        "    print(\"You're eligible to drive the car.\")\n",
        "    print(\"Be carefull when drive the car.\")\n",
        "else:\n",
        "    print(\"No, You have to wait until you turn 18.\")"
      ],
      "metadata": {
        "id": "s_MSvmQvPP_S"
      },
      "execution_count": null,
      "outputs": []
    },
    {
      "cell_type": "markdown",
      "source": [
        "**Nested if else statement**"
      ],
      "metadata": {
        "id": "1YHfiXMUQlPz"
      }
    },
    {
      "cell_type": "code",
      "source": [
        "age = int(input(\"Enter your age : \"))\n",
        "\n",
        "# check if age is greater than 18\n",
        "if age >= 18:\n",
        "    # if age is greater than or equal to 65 \n",
        "    if age >= 65:\n",
        "        print(\"Take rest\")\n",
        "    # if age is less than 65 \n",
        "    else:\n",
        "        print(\"You're eligible.\")\n",
        "        print(\"Drive slow.\")\n",
        "# else: if age is less than 18 \n",
        "else:\n",
        "    print(\"Wait until turn 18\")"
      ],
      "metadata": {
        "id": "qI7SS1E6Stak"
      },
      "execution_count": null,
      "outputs": []
    },
    {
      "cell_type": "markdown",
      "source": [
        "**If, elif and else statement**"
      ],
      "metadata": {
        "id": "KzvfU8JVT6N7"
      }
    },
    {
      "cell_type": "code",
      "source": [
        "number = int(input(\"Enter a number: \"))\n",
        "\n",
        "if number > 0:\n",
        "    result = \"Positive\"\n",
        "elif number == 0:\n",
        "    result = \"Zero\"\n",
        "else:\n",
        "    result = \"Negative\"\n",
        "\n",
        "print(f\"The result is : {result}\")"
      ],
      "metadata": {
        "id": "0SmfFuhTVPn_"
      },
      "execution_count": null,
      "outputs": []
    },
    {
      "cell_type": "markdown",
      "source": [
        "**Challenge: Print the largest**"
      ],
      "metadata": {
        "id": "Hi4VQ78nWAqa"
      }
    },
    {
      "cell_type": "markdown",
      "source": [
        "***Find the maximum in a list***\n",
        "\n",
        "- Given marks of students in a class. Find topper of the class\n",
        "- Consider that list is non empty"
      ],
      "metadata": {
        "id": "moWbFR9NWXkX"
      }
    },
    {
      "cell_type": "code",
      "source": [
        "marks = [90, 30, 100, 50, 80, 95]\n",
        "\n",
        "highest = marks[0]\n",
        "# iterate on the list\n",
        "for i in marks:\n",
        "    if i > highest:\n",
        "        highest = i\n",
        "\n",
        "print(f\"The highest mark is : {highest}\")"
      ],
      "metadata": {
        "id": "B-k-FY4-WUxf"
      },
      "execution_count": null,
      "outputs": []
    },
    {
      "cell_type": "code",
      "source": [
        "marks = [90, 30, 100, 50, 80, 95]\n",
        "\n",
        "# max() function\n",
        "print(max(marks))\n",
        "\n",
        "# min() function \n",
        "print(min(marks))"
      ],
      "metadata": {
        "id": "dU2ez2tlYiz0"
      },
      "execution_count": null,
      "outputs": []
    },
    {
      "cell_type": "markdown",
      "source": [
        "**Challenge: Grading System**\n",
        "\n",
        "- A : marks equal and above 90 \n",
        "- B : marks equal to 80 and less than 90\n",
        "- C : marks equal to 70 and less than 80\n",
        "- D : marks equal to 60 and less than 70\n",
        "- S : marks less than or 60"
      ],
      "metadata": {
        "id": "WM4s9Cd6WO7d"
      }
    },
    {
      "cell_type": "code",
      "source": [
        "marks = int(input(\"Enter your marks : \"))\n",
        "\n",
        "if marks >= 90 and marks <= 100:\n",
        "    print(\"Grade A\")\n",
        "elif marks >= 80 and marks < 90:\n",
        "    print(\"Grade B\")\n",
        "elif marks >= 70 and marks < 80:\n",
        "    print(\"Grade C\")\n",
        "elif marks >= 60 and marks < 70:\n",
        "    print(\"Grade D\")\n",
        "elif marks < 60:\n",
        "    print(\"Grade S\")\n",
        "else:\n",
        "    print(\"Invalid!!\")"
      ],
      "metadata": {
        "id": "gczNaO-LYCim"
      },
      "execution_count": null,
      "outputs": []
    },
    {
      "cell_type": "markdown",
      "source": [
        "## **7. Loops in Python**"
      ],
      "metadata": {
        "id": "-GhpT_TryDDf"
      }
    },
    {
      "cell_type": "markdown",
      "source": [
        "▶ **Intro to Python Loops**\n",
        "\n",
        "- While\n",
        "- For \n"
      ],
      "metadata": {
        "id": "doMbiui_yOOP"
      }
    },
    {
      "cell_type": "markdown",
      "source": [
        "▶ **While Loops**\n",
        "\n",
        "- Initializing value\n",
        "- Loop condition\n",
        "- Updating value"
      ],
      "metadata": {
        "id": "FByQniLKy1RU"
      }
    },
    {
      "cell_type": "code",
      "source": [
        "# initialization \n",
        "i = 1\n",
        "\n",
        "# condition\n",
        "while i <= 6:\n",
        "    print(\"You are best !!!\")\n",
        "    i += 1 # update "
      ],
      "metadata": {
        "id": "-vq6Bxg70d6j"
      },
      "execution_count": null,
      "outputs": []
    },
    {
      "cell_type": "markdown",
      "source": [
        "*Print all numbers from 1 to 10 using loop*"
      ],
      "metadata": {
        "id": "J8kdNjs96DZW"
      }
    },
    {
      "cell_type": "code",
      "source": [
        "i = 1\n",
        "\n",
        "while i <= 10:\n",
        "    print(i)\n",
        "    i += 1"
      ],
      "metadata": {
        "id": "2KguIVZt6vAF"
      },
      "execution_count": null,
      "outputs": []
    },
    {
      "cell_type": "markdown",
      "source": [
        "Print Even numbers in given range"
      ],
      "metadata": {
        "id": "_a77Vnt27mvM"
      }
    },
    {
      "cell_type": "code",
      "source": [
        "x = 1\n",
        "\n",
        "while x <= 10:\n",
        "    if x % 2 == 0:\n",
        "        print(x, end=\" \")\n",
        "    x += 1"
      ],
      "metadata": {
        "id": "19z6orpU_pEQ"
      },
      "execution_count": null,
      "outputs": []
    },
    {
      "cell_type": "markdown",
      "source": [
        "Print sum of numbers in given range"
      ],
      "metadata": {
        "id": "uMcqpgliSSN2"
      }
    },
    {
      "cell_type": "code",
      "source": [
        "i = 0\n",
        "sum = 0\n",
        "\n",
        "while i <= 10:\n",
        "    # print(i, end=\" \")\n",
        "    sum += i\n",
        "    # print(sum)\n",
        "\n",
        "    i += 1\n",
        "\n",
        "print(sum)"
      ],
      "metadata": {
        "id": "vaN3NlihSZ2Q"
      },
      "execution_count": null,
      "outputs": []
    },
    {
      "cell_type": "markdown",
      "source": [
        "▶ **Range Function**\n",
        "\n",
        "- range() function allows users to generate series of numbers\n",
        "- It is iterable as well\n"
      ],
      "metadata": {
        "id": "rJGwF6_GUAuA"
      }
    },
    {
      "cell_type": "markdown",
      "source": [
        "**Syntax:**\n",
        "\n",
        ">**`range(start, end, jump)`**"
      ],
      "metadata": {
        "id": "rNSp0Pq0IFNy"
      }
    },
    {
      "cell_type": "code",
      "source": [
        "# here start from 0 and end to 4\n",
        "list(range(5))"
      ],
      "metadata": {
        "id": "WBm8CkZSUTSQ"
      },
      "execution_count": null,
      "outputs": []
    },
    {
      "cell_type": "code",
      "source": [
        "# default index here is 1 \n",
        "list(range(1, 5))"
      ],
      "metadata": {
        "id": "Brg5qfU0HEm0"
      },
      "execution_count": null,
      "outputs": []
    },
    {
      "cell_type": "code",
      "source": [
        "# start is included and end is excluded\n",
        "list(range(2, 6))"
      ],
      "metadata": {
        "id": "up5sMh5LHb3i"
      },
      "execution_count": null,
      "outputs": []
    },
    {
      "cell_type": "code",
      "source": [
        "list(range(1, 10, 2))"
      ],
      "metadata": {
        "id": "87B4YV-lIWP9"
      },
      "execution_count": null,
      "outputs": []
    },
    {
      "cell_type": "code",
      "source": [
        "list(range(10, 1, 1))"
      ],
      "metadata": {
        "id": "d16ITENTIuec"
      },
      "execution_count": null,
      "outputs": []
    },
    {
      "cell_type": "code",
      "source": [
        "list(range(10, 1, -1))"
      ],
      "metadata": {
        "id": "c1ue6Sk3IdSl"
      },
      "execution_count": null,
      "outputs": []
    },
    {
      "cell_type": "code",
      "source": [
        "list(range(-1, 10))"
      ],
      "metadata": {
        "id": "rBdrgeiDIzHE"
      },
      "execution_count": null,
      "outputs": []
    },
    {
      "cell_type": "code",
      "source": [
        "list(range(10, 0, -2))"
      ],
      "metadata": {
        "id": "KMmgDnQaI7b0"
      },
      "execution_count": null,
      "outputs": []
    },
    {
      "cell_type": "markdown",
      "source": [
        "**Iterator, Iterable and Iteration(for loop)**\n",
        "\n"
      ],
      "metadata": {
        "id": "q-Aps3bzJN80"
      }
    },
    {
      "cell_type": "markdown",
      "source": [
        "▶ **For Loop in Python**"
      ],
      "metadata": {
        "id": "MTryPnRAJ_kt"
      }
    },
    {
      "cell_type": "code",
      "source": [
        "# i : iterator\n",
        "# range() : iterable \n",
        "for i in range(1, 11):\n",
        "    print(i, end=\" \")\n",
        "\n",
        "# and this this whole process is iteration"
      ],
      "metadata": {
        "id": "1fmAssMAK6Ey"
      },
      "execution_count": null,
      "outputs": []
    },
    {
      "cell_type": "markdown",
      "source": [
        "**Print multiplication table of 5**"
      ],
      "metadata": {
        "id": "7cxvvyweLmdi"
      }
    },
    {
      "cell_type": "code",
      "source": [
        "n = int(input(\"Enter tables: \"))\n",
        "for i in range(1, 11):\n",
        "    print(i * n)"
      ],
      "metadata": {
        "id": "0ByKfGRkLtdh"
      },
      "execution_count": null,
      "outputs": []
    },
    {
      "cell_type": "markdown",
      "source": [
        "**Print Pattern - 1**"
      ],
      "metadata": {
        "id": "IJgke0tRMGqe"
      }
    },
    {
      "cell_type": "code",
      "source": [
        "n = 4 \n",
        "\n",
        "# # # #\n",
        "# # # #\n",
        "# # # #\n",
        "# # # #\n",
        "\n",
        "n = 3 \n",
        "\n",
        "# # #\n",
        "# # #\n",
        "# # #"
      ],
      "metadata": {
        "id": "WzJL8iHWM_wj"
      },
      "execution_count": null,
      "outputs": []
    },
    {
      "cell_type": "code",
      "source": [
        "for i in range(4):\n",
        "    print('#', end=\" \")\n",
        "print()\n",
        "\n",
        "for i in range(4):\n",
        "    print('#', end=\" \")\n",
        "print()\n",
        "\n",
        "for i in range(4):\n",
        "    print('#', end=\" \")\n",
        "print()\n",
        "\n",
        "for i in range(4):\n",
        "    print('#', end=\" \")\n",
        "print()\n",
        "\n",
        "# please note that, this is not a good approch in for loop \n"
      ],
      "metadata": {
        "id": "VgcEFMekNNNy"
      },
      "execution_count": null,
      "outputs": []
    },
    {
      "cell_type": "markdown",
      "source": [
        "***Nested for loop***"
      ],
      "metadata": {
        "id": "KjsIolKvNrsk"
      }
    },
    {
      "cell_type": "code",
      "source": [
        "# good approach\n",
        "\n",
        "for i in range(4):\n",
        "    for j in range(4):\n",
        "        print('#', end=' ')\n",
        "    print()"
      ],
      "metadata": {
        "id": "17beu14rNvQq"
      },
      "execution_count": null,
      "outputs": []
    },
    {
      "cell_type": "markdown",
      "source": [
        "**Print Pattern - 2**"
      ],
      "metadata": {
        "id": "XylzkBKOOwnu"
      }
    },
    {
      "cell_type": "code",
      "source": [
        "n = 4\n",
        "\n",
        "# \n",
        "# #\n",
        "# # #\n",
        "# # # #\n"
      ],
      "metadata": {
        "id": "x6yXqaL6Pn8r"
      },
      "execution_count": null,
      "outputs": []
    },
    {
      "cell_type": "code",
      "source": [
        "n = int(input())\n",
        "\n",
        "# run for rows \n",
        "for i in range(1, n + 1):\n",
        "    for j in range(i):\n",
        "        print('#', end=' ')\n",
        "\n",
        "    # after printing row go to next row \n",
        "    print()"
      ],
      "metadata": {
        "id": "y6ivNX_qPw5j"
      },
      "execution_count": null,
      "outputs": []
    },
    {
      "cell_type": "code",
      "source": [
        "# printing star (*)\n",
        "\n",
        "n = int(input())\n",
        "\n",
        "# run for rows \n",
        "for i in range(1, n + 1):\n",
        "    for j in range(i):\n",
        "        print(\"*\", end=\" \")\n",
        "\n",
        "    # after printing row go to next row \n",
        "    print() "
      ],
      "metadata": {
        "id": "TXcoMbgvQYui"
      },
      "execution_count": null,
      "outputs": []
    },
    {
      "cell_type": "markdown",
      "source": [
        "**Break, Continue and Pass Statements**\n",
        "\n",
        "- There statements are used to alter the flow of a program\n",
        "- **`break`** : Break the flow of program once this condition is hit\n",
        "- **`continue`** : It skips that particular iteration\n",
        "- **`pass`** : Using to avoid **Syntax Error**"
      ],
      "metadata": {
        "id": "ev5-DRvIRJe6"
      }
    },
    {
      "cell_type": "code",
      "source": [
        "# pass \n",
        "\n",
        "for i in range(10):\n",
        "    pass"
      ],
      "metadata": {
        "id": "jXLzPKYGSs72"
      },
      "execution_count": null,
      "outputs": []
    },
    {
      "cell_type": "code",
      "source": [
        "# continue\n",
        "\n",
        "for i in range(1, 10):\n",
        "    if i == 5:\n",
        "        continue\n",
        "    print(i)"
      ],
      "metadata": {
        "id": "sjQSXlFAS19M"
      },
      "execution_count": null,
      "outputs": []
    },
    {
      "cell_type": "code",
      "source": [
        "# break\n",
        "\n",
        "for i in range(10):\n",
        "    if i == 5:\n",
        "        break\n",
        "        \n",
        "    print(i)"
      ],
      "metadata": {
        "id": "_qSJ7AtfTp_z"
      },
      "execution_count": null,
      "outputs": []
    },
    {
      "cell_type": "code",
      "source": [
        "x = 1\n",
        "\n",
        "while x < 10:\n",
        "    if x == 5:\n",
        "        break\n",
        "        \n",
        "    print(x)\n",
        "    x += 1"
      ],
      "metadata": {
        "id": "NDatw2yrT7Ht"
      },
      "execution_count": null,
      "outputs": []
    },
    {
      "cell_type": "markdown",
      "source": [
        "## **8. Strings in Python**"
      ],
      "metadata": {
        "id": "1oqxYthrUV5z"
      }
    },
    {
      "cell_type": "markdown",
      "source": [
        "**Strings in Python**\n",
        "\n",
        "- A string is a sequence of characters\n",
        "- Characters can be : \n",
        "  - Alphabets (capital and small letters)\n",
        "  - Digits (0-9)\n",
        "  - Whitespaces (Space)\n",
        "  - Special characters (@, #, $, & ....etc)\n",
        "- They can be defined using single, double or triple quotes\n"
      ],
      "metadata": {
        "id": "POnAg6t5UCoR"
      }
    },
    {
      "cell_type": "code",
      "source": [
        "\"Mihir\" == \"MihiR\""
      ],
      "metadata": {
        "id": "uSuSM5v4VC9_"
      },
      "execution_count": null,
      "outputs": []
    },
    {
      "cell_type": "code",
      "source": [
        "s = \"Liza\"\n",
        "\n",
        "type(s)"
      ],
      "metadata": {
        "id": "Rwe8blFpVps5"
      },
      "execution_count": null,
      "outputs": []
    },
    {
      "cell_type": "code",
      "source": [
        "s1 = \"\"\" Multiple strings in python\"\"\"\n",
        "\n",
        "type(s1)"
      ],
      "metadata": {
        "id": "TiF4Q9oxVySE"
      },
      "execution_count": null,
      "outputs": []
    },
    {
      "cell_type": "markdown",
      "source": [
        "**Ord and Chr in Python**\n",
        "\n",
        "- ord( ) function\n",
        "\n",
        "- chr( ) function"
      ],
      "metadata": {
        "id": "rsv_Qjq9WCOw"
      }
    },
    {
      "cell_type": "code",
      "source": [
        "# Bangla : আ \n",
        "# Chinese : 我 \n",
        "# Hindi : आ \n",
        "# Emoji : 😊 "
      ],
      "metadata": {
        "id": "QRlgE8NiWhOE"
      },
      "execution_count": null,
      "outputs": []
    },
    {
      "cell_type": "markdown",
      "source": [
        "**ord( ) function**"
      ],
      "metadata": {
        "id": "5DFJsI42BeoX"
      }
    },
    {
      "cell_type": "code",
      "source": [
        "# ord() \n",
        "ord(\"A\")"
      ],
      "metadata": {
        "id": "6MzTEosuYJe3"
      },
      "execution_count": null,
      "outputs": []
    },
    {
      "cell_type": "code",
      "source": [
        "ord(\"😊\")"
      ],
      "metadata": {
        "id": "8fsh1A8lYWWu"
      },
      "execution_count": null,
      "outputs": []
    },
    {
      "cell_type": "code",
      "source": [
        "ord(\"আ\")"
      ],
      "metadata": {
        "id": "-jnU5XDKYNJu"
      },
      "execution_count": null,
      "outputs": []
    },
    {
      "cell_type": "code",
      "source": [
        "ord('我')"
      ],
      "metadata": {
        "id": "oq5dOg_wYdrk"
      },
      "execution_count": null,
      "outputs": []
    },
    {
      "cell_type": "code",
      "source": [
        "ord(\"😀\")"
      ],
      "metadata": {
        "id": "8ZlLSU6KBOVM"
      },
      "execution_count": null,
      "outputs": []
    },
    {
      "cell_type": "code",
      "source": [
        "ord('आ')"
      ],
      "metadata": {
        "id": "gE5CGvBPYh3X"
      },
      "execution_count": null,
      "outputs": []
    },
    {
      "cell_type": "markdown",
      "source": [
        "**chr() function**"
      ],
      "metadata": {
        "id": "YeZGjU6lBZ_y"
      }
    },
    {
      "cell_type": "code",
      "source": [
        "# chr()\n",
        "chr(2438)\n"
      ],
      "metadata": {
        "id": "2R7O5qhtYxD_"
      },
      "execution_count": null,
      "outputs": []
    },
    {
      "cell_type": "code",
      "source": [
        "chr(25105)"
      ],
      "metadata": {
        "id": "QKUtNp46Y-18"
      },
      "execution_count": null,
      "outputs": []
    },
    {
      "cell_type": "code",
      "source": [
        "chr(128512)"
      ],
      "metadata": {
        "id": "AaqDUe3lBSBQ"
      },
      "execution_count": null,
      "outputs": []
    },
    {
      "cell_type": "code",
      "source": [
        "chr(101)"
      ],
      "metadata": {
        "id": "zkDiCu_DCZQN"
      },
      "execution_count": null,
      "outputs": []
    },
    {
      "cell_type": "markdown",
      "source": [
        "**Indexing in Strings**"
      ],
      "metadata": {
        "id": "6yN62xr6CfBr"
      }
    },
    {
      "cell_type": "code",
      "source": [
        "name = \"Mihir Chakma\"\n",
        "# in string, indexing start from 0 "
      ],
      "metadata": {
        "id": "nN-HS707Cl8k"
      },
      "execution_count": null,
      "outputs": []
    },
    {
      "cell_type": "markdown",
      "source": [
        "**Accessing character in String**"
      ],
      "metadata": {
        "id": "3msKsXdnDRuO"
      }
    },
    {
      "cell_type": "code",
      "source": [
        "name = \"Advaith Chakma\"\n",
        "\n",
        "print(name[2])\n",
        "print(name[-2])\n",
        "print(name[0 : 6]) # slicing "
      ],
      "metadata": {
        "id": "9olj7TrHDlFz"
      },
      "execution_count": null,
      "outputs": []
    },
    {
      "cell_type": "markdown",
      "source": [
        "**Lenght - `len( ) `function**"
      ],
      "metadata": {
        "id": "_q9eUM4AD4Tz"
      }
    },
    {
      "cell_type": "code",
      "source": [
        "name = \"Advaith Chakma\"\n",
        "print(len(name))"
      ],
      "metadata": {
        "id": "cJYLyRpCD6uE"
      },
      "execution_count": null,
      "outputs": []
    },
    {
      "cell_type": "code",
      "source": [
        "size = len(name)\n",
        "print(name[-size])\n",
        "print(size)"
      ],
      "metadata": {
        "id": "oubwFJEdEYEo"
      },
      "execution_count": null,
      "outputs": []
    },
    {
      "cell_type": "markdown",
      "source": [
        "**String Slicing**\n",
        "\n",
        "- `string[starting : end]`\n",
        "- `string(start : end : jump)` - **optional**"
      ],
      "metadata": {
        "id": "-sWqZI5rE1F7"
      }
    },
    {
      "cell_type": "code",
      "source": [
        "name = \"Mihir Chakma\"\n",
        "\n",
        "print(name[0])\n",
        "print(name[0:5])"
      ],
      "metadata": {
        "id": "Rus4dg62E4fa"
      },
      "execution_count": null,
      "outputs": []
    },
    {
      "cell_type": "code",
      "source": [
        "size = len(name)\n",
        "\n",
        "name[0:size]\n",
        "print(name)"
      ],
      "metadata": {
        "id": "G1u4ExEqFrtd"
      },
      "execution_count": null,
      "outputs": []
    },
    {
      "cell_type": "code",
      "source": [
        "# this will print whole string\n",
        "name[:]"
      ],
      "metadata": {
        "id": "9VK3vpGNGF_L"
      },
      "execution_count": null,
      "outputs": []
    },
    {
      "cell_type": "code",
      "source": [
        "print(name[: : 2])"
      ],
      "metadata": {
        "id": "yO15ubR3Gr5b"
      },
      "execution_count": null,
      "outputs": []
    },
    {
      "cell_type": "code",
      "source": [
        "print(name[: -2])"
      ],
      "metadata": {
        "id": "kE5-5BhYGzF_"
      },
      "execution_count": null,
      "outputs": []
    },
    {
      "cell_type": "code",
      "source": [
        "print(name[-1 : 0 : -1])"
      ],
      "metadata": {
        "id": "hP_I6jOmH6Y4"
      },
      "execution_count": null,
      "outputs": []
    },
    {
      "cell_type": "code",
      "source": [
        "print(name[: :-1])"
      ],
      "metadata": {
        "id": "QjSY2O0XH1BK"
      },
      "execution_count": null,
      "outputs": []
    },
    {
      "cell_type": "code",
      "source": [
        "name[-1 : -(len(name) + 1) : -1]"
      ],
      "metadata": {
        "id": "ThrPHoWzIe1R"
      },
      "execution_count": null,
      "outputs": []
    },
    {
      "cell_type": "markdown",
      "source": [
        "**String Methods in Python**\n",
        "\n",
        "- capitalize()\n",
        "- title()\n",
        "- lower()\n",
        "- upper()\n",
        "- find()\n",
        "- count()\n",
        "- index()\n",
        "- replace() \n",
        "- split()\n",
        "- islower()\n",
        "- isupper()\n",
        "- isnumeric()\n",
        "- isalpha()\n",
        "\n",
        "\n",
        "\n",
        "- [All String Methods from W3Schools](https://www.w3schools.com/python/python_ref_string.asp)"
      ],
      "metadata": {
        "id": "FZhhFNBTI4yu"
      }
    },
    {
      "cell_type": "code",
      "source": [
        "name = \"mihir chakma\""
      ],
      "metadata": {
        "id": "vhHRAu5iKB35"
      },
      "execution_count": null,
      "outputs": []
    },
    {
      "cell_type": "code",
      "source": [
        "name.capitalize()"
      ],
      "metadata": {
        "id": "EC4XQxFEKfEe"
      },
      "execution_count": null,
      "outputs": []
    },
    {
      "cell_type": "code",
      "source": [
        "name.title()"
      ],
      "metadata": {
        "id": "7m4k82k5Kn3f"
      },
      "execution_count": null,
      "outputs": []
    },
    {
      "cell_type": "code",
      "source": [
        "name.upper()"
      ],
      "metadata": {
        "id": "_tc_v328K35F"
      },
      "execution_count": null,
      "outputs": []
    },
    {
      "cell_type": "code",
      "source": [
        "name.lower()"
      ],
      "metadata": {
        "id": "06FVR78fK66-"
      },
      "execution_count": null,
      "outputs": []
    },
    {
      "cell_type": "code",
      "source": [
        "name.find('a')"
      ],
      "metadata": {
        "id": "T58jaCDWK9io"
      },
      "execution_count": null,
      "outputs": []
    },
    {
      "cell_type": "code",
      "source": [
        "name.count(\"M\")"
      ],
      "metadata": {
        "id": "vMBnwzQmLPEZ"
      },
      "execution_count": null,
      "outputs": []
    },
    {
      "cell_type": "code",
      "source": [
        "name.index(\"c\")"
      ],
      "metadata": {
        "id": "IkBTWjhgLiHQ"
      },
      "execution_count": null,
      "outputs": []
    },
    {
      "cell_type": "code",
      "source": [
        "name.replace(\"m\", \"M\")"
      ],
      "metadata": {
        "id": "hVckGOWpLqt-"
      },
      "execution_count": null,
      "outputs": []
    },
    {
      "cell_type": "code",
      "source": [
        "name.split()"
      ],
      "metadata": {
        "id": "RL6hJlYOL8kZ"
      },
      "execution_count": null,
      "outputs": []
    },
    {
      "cell_type": "code",
      "source": [
        "name.split(\"i\")"
      ],
      "metadata": {
        "id": "hL2IOoiiMBGE"
      },
      "execution_count": null,
      "outputs": []
    },
    {
      "cell_type": "code",
      "source": [
        "name = \"Mihir\""
      ],
      "metadata": {
        "id": "UUjO3hlfMTcH"
      },
      "execution_count": null,
      "outputs": []
    },
    {
      "cell_type": "code",
      "source": [
        "name.isupper()"
      ],
      "metadata": {
        "id": "JhH7RnVrMMl5"
      },
      "execution_count": null,
      "outputs": []
    },
    {
      "cell_type": "code",
      "source": [
        "\"M\".isupper()"
      ],
      "metadata": {
        "id": "0ib7V8dnMZ0n"
      },
      "execution_count": null,
      "outputs": []
    },
    {
      "cell_type": "code",
      "source": [
        "name.islower()"
      ],
      "metadata": {
        "id": "Uwmc1L8-MeSV"
      },
      "execution_count": null,
      "outputs": []
    },
    {
      "cell_type": "code",
      "source": [
        "\"mihir\".islower()"
      ],
      "metadata": {
        "id": "GhKwhygvMi6X"
      },
      "execution_count": null,
      "outputs": []
    },
    {
      "cell_type": "code",
      "source": [
        "\"24\".isnumeric()"
      ],
      "metadata": {
        "id": "-1lCoNKlMoIw"
      },
      "execution_count": null,
      "outputs": []
    },
    {
      "cell_type": "code",
      "source": [
        "\"24K\".isnumeric()"
      ],
      "metadata": {
        "id": "qf8lpp86Mtn7"
      },
      "execution_count": null,
      "outputs": []
    },
    {
      "cell_type": "code",
      "source": [
        "name.isalpha()"
      ],
      "metadata": {
        "id": "LCF9RqL7MzOd"
      },
      "execution_count": null,
      "outputs": []
    },
    {
      "cell_type": "code",
      "source": [
        "\"Mihir Chakma\".isalpha()"
      ],
      "metadata": {
        "id": "vOExIYJvM9Ko"
      },
      "execution_count": null,
      "outputs": []
    },
    {
      "cell_type": "markdown",
      "source": [
        "**String Formatting**"
      ],
      "metadata": {
        "id": "IKfp539FNPz_"
      }
    },
    {
      "cell_type": "code",
      "source": [
        "name = \"Mihir\"\n",
        "age = 25\n",
        "\n",
        "print(\"my name is\", name, \"I'm\", age,\"years old.\")\n",
        "\n",
        "# not good in formatting but this is useful sometimes "
      ],
      "metadata": {
        "id": "YWixpMH1NoZO"
      },
      "execution_count": null,
      "outputs": []
    },
    {
      "cell_type": "code",
      "source": [
        "name = \"Mihir\"\n",
        "age = 24\n",
        "\n",
        "print(\"My name is {}, I'm {} years old.\".format(name, age))\n",
        "\n",
        "# not good as f string but useful "
      ],
      "metadata": {
        "id": "PLf-Koh7ONLB"
      },
      "execution_count": null,
      "outputs": []
    },
    {
      "cell_type": "code",
      "source": [
        "# more advanced f string \n",
        "name = \"Advaith\"\n",
        "age = 25\n",
        "\n",
        "print(f\"My name is {name}, I'm {age} years old.\")\n",
        "\n",
        "# good approch when using string format in python "
      ],
      "metadata": {
        "id": "R3AqazmnPVxA"
      },
      "execution_count": null,
      "outputs": []
    },
    {
      "cell_type": "markdown",
      "source": [
        "**String Concatenation**"
      ],
      "metadata": {
        "id": "p9-TcFaRQH8I"
      }
    },
    {
      "cell_type": "code",
      "source": [
        "first_name = input(\"Fist name : \")\n",
        "last_name = input(\"Last name : \")\n",
        "\n",
        "print(first_name + last_name) # concatenation "
      ],
      "metadata": {
        "id": "j4aVC7QYQnU3"
      },
      "execution_count": null,
      "outputs": []
    },
    {
      "cell_type": "code",
      "source": [
        "print(\"4\" + \"K\")\n",
        "print(\"35\" + \"45\")\n",
        "print(\"A\" * 3) # print a 3 times "
      ],
      "metadata": {
        "id": "SEF1_jl6Q8n5"
      },
      "execution_count": null,
      "outputs": []
    },
    {
      "cell_type": "code",
      "source": [
        "# you can not concate with string and numbers and other data types together, it will print error \n",
        "# print(35 + \"35\") # error \n",
        "\n",
        "# you can't multiply with str and str \n",
        "# print(\"Mihir\" * \"Chakma\") # error \n",
        "\n",
        "# but you can this \n",
        "print(\"Mihir\" * 3)"
      ],
      "metadata": {
        "id": "eprPhVFrRNat"
      },
      "execution_count": null,
      "outputs": []
    },
    {
      "cell_type": "markdown",
      "source": [
        "**Challenge : Print Vowels**\n",
        "\n",
        "- Print all vowels of a given string"
      ],
      "metadata": {
        "id": "xPdXZDdISTLw"
      }
    },
    {
      "cell_type": "code",
      "source": [
        "text = \" The quick brown fox jumps over the lazy dog\"\n",
        "\n",
        "for i in text:\n",
        "    if i == \"a\" or i == \"e\" or i == \"i\" or i == \"o\" or i == \"u\":\n",
        "        print(i)\n"
      ],
      "metadata": {
        "id": "0dPhw5F-Snei"
      },
      "execution_count": null,
      "outputs": []
    },
    {
      "cell_type": "markdown",
      "source": [
        "**Challenge : Check Palindrome**\n",
        "\n",
        "> Find if a string is palindrome\n",
        "\n",
        "\n",
        "- A string is said to be palindrome if the reverse of string is the same as string.\n",
        "- For example : \"radar\", \"civic\", \"level\" is a pallindrome, but \"radix\", \"read\" is not a palindrome."
      ],
      "metadata": {
        "id": "EI7WgRTWSaIO"
      }
    },
    {
      "cell_type": "code",
      "source": [
        "s = input(\"Write a word: \")\n",
        "\n",
        "# reverse is : s[::-1], using string slicing\n",
        "if s == s[::-1]:\n",
        "    result = \"Yes\"\n",
        "else:\n",
        "    result = \"No\"\n",
        "\n",
        "print(result)"
      ],
      "metadata": {
        "id": "bkU6rwOZVM5q"
      },
      "execution_count": null,
      "outputs": []
    },
    {
      "cell_type": "markdown",
      "source": [
        "## **9. List**"
      ],
      "metadata": {
        "id": "eSSGpHKdXBc-"
      }
    },
    {
      "cell_type": "markdown",
      "source": [
        "**Introduction to Data Structures in Python**\n",
        "\n",
        "A data structure is a specialized format for **Organizing**, **Processing**, **Retrieving** and **Storing** data.\n",
        "\n",
        "There are 4 basic data structures in Python.\n",
        "\n",
        "- Lists\n",
        "- Tuples\n",
        "- Dictionary\n",
        "- Sets"
      ],
      "metadata": {
        "id": "u8q-zV6UXRku"
      }
    },
    {
      "cell_type": "code",
      "source": [
        "# want to store data more efficiently? "
      ],
      "metadata": {
        "id": "sslufvlee7Ri"
      },
      "execution_count": null,
      "outputs": []
    },
    {
      "cell_type": "code",
      "source": [
        "name1 = \"Mihir\"\n",
        "name2 = \"Advaith\"\n",
        "name3 = \"Kevin\"\n",
        "name4 = \"Emma\"\n",
        "name5 = \"Kristhina\""
      ],
      "metadata": {
        "id": "BkFvc8ykfCCP"
      },
      "execution_count": null,
      "outputs": []
    },
    {
      "cell_type": "markdown",
      "source": [
        "**Introduction to Lists in Python**"
      ],
      "metadata": {
        "id": "FHc-r6PXgKNt"
      }
    },
    {
      "cell_type": "markdown",
      "source": [
        "**Lists:**\n",
        "\n",
        "- Ordered collection of data\n",
        "- Lists are mutable type 0f Data Structure\n",
        "- It can contain multiple type of Data\n",
        "- Lists are changeable (Mutable)\n",
        "- Lists are iterable \n",
        "\n",
        "\n",
        "To convert into a list use `list() `function\n"
      ],
      "metadata": {
        "id": "57TqWDstgW3A"
      }
    },
    {
      "cell_type": "code",
      "source": [
        "# creating a list \n",
        "items = list()\n",
        "print(type(items))"
      ],
      "metadata": {
        "id": "TAKfR8y8gv_n"
      },
      "execution_count": null,
      "outputs": []
    },
    {
      "cell_type": "code",
      "source": [
        "num = [1, 2, 3, 4, 5, 6]\n",
        "print(num)"
      ],
      "metadata": {
        "id": "4hL9DLh_hQWr"
      },
      "execution_count": null,
      "outputs": []
    },
    {
      "cell_type": "code",
      "source": [
        "print(len(num))"
      ],
      "metadata": {
        "id": "k-qT5p6ciV10"
      },
      "execution_count": null,
      "outputs": []
    },
    {
      "cell_type": "code",
      "source": [
        "# list accessing \n",
        "print(num[0])\n",
        "print(num[4])\n",
        "print(num[-1])\n",
        "print(num[-len(num)])"
      ],
      "metadata": {
        "id": "21AMCPhNiGye"
      },
      "execution_count": null,
      "outputs": []
    },
    {
      "cell_type": "code",
      "source": [
        "# mutability\n",
        "print(id(num))\n",
        "\n",
        "num[0] = 9 # change the value 1 to 9 \n",
        "print(num)\n",
        "\n",
        "print(id(num))"
      ],
      "metadata": {
        "id": "0iXD21t1inpD"
      },
      "execution_count": null,
      "outputs": []
    },
    {
      "cell_type": "code",
      "source": [
        "# list iterable \n",
        "num1 = [10, 20, 30, 40, 50, 60]\n",
        "\n",
        "for i in num1:\n",
        "    print(i)"
      ],
      "metadata": {
        "id": "bpI0-gJcjTD5"
      },
      "execution_count": null,
      "outputs": []
    },
    {
      "cell_type": "markdown",
      "source": [
        "**List Slicing**"
      ],
      "metadata": {
        "id": "hLGYhhC7j-ZN"
      }
    },
    {
      "cell_type": "code",
      "source": [
        "l = [1, 3, 5, 7, 9, 11]\n",
        "\n",
        "print(len(l))"
      ],
      "metadata": {
        "id": "oBTEG2d9kBLU"
      },
      "execution_count": null,
      "outputs": []
    },
    {
      "cell_type": "code",
      "source": [
        "# slicing \n",
        "\n",
        "print(l[0:3])\n",
        "\n",
        "print(l[::-1])"
      ],
      "metadata": {
        "id": "5qSs4CfykbI2"
      },
      "execution_count": null,
      "outputs": []
    },
    {
      "cell_type": "code",
      "source": [
        "print(l[5:0:-1])"
      ],
      "metadata": {
        "id": "dWDwQpBwkoKy"
      },
      "execution_count": null,
      "outputs": []
    },
    {
      "cell_type": "markdown",
      "source": [
        "**List Operations**\n",
        "\n",
        "\n",
        "**List inbuilt Methods**\n",
        "\n",
        "- append()\n",
        "- clear()\n",
        "- copy()\n",
        "- count()\n",
        "- extend()\n",
        "- index()\n",
        "- insert()\n",
        "- pop()\n",
        "- remove()\n",
        "- reverse()\n",
        "- sort()\n",
        "\n",
        "\n",
        "- [Lists Methods in Python](https://www.w3schools.com/python/python_ref_list.asp)"
      ],
      "metadata": {
        "id": "PiPWzDy7lC_h"
      }
    },
    {
      "cell_type": "code",
      "source": [
        "budget = [100, 150, 200, 300, 100]"
      ],
      "metadata": {
        "id": "UuT1oyuOmIis"
      },
      "execution_count": null,
      "outputs": []
    },
    {
      "cell_type": "code",
      "source": [
        "# count() : Returns the number of elements with the specified value \n",
        "budget.count(100)"
      ],
      "metadata": {
        "id": "THRNwMqhmbkD"
      },
      "execution_count": null,
      "outputs": []
    },
    {
      "cell_type": "code",
      "source": [
        "budget.count(500)"
      ],
      "metadata": {
        "id": "AXWisSRRmmfd"
      },
      "execution_count": null,
      "outputs": []
    },
    {
      "cell_type": "code",
      "source": [
        "# index() : Returns the index of the first element with the specified value \n",
        "\n",
        "budget"
      ],
      "metadata": {
        "id": "wauVZ0hSmrtK"
      },
      "execution_count": null,
      "outputs": []
    },
    {
      "cell_type": "code",
      "source": [
        "budget.index(300)"
      ],
      "metadata": {
        "id": "rx6lhVyYnFba"
      },
      "execution_count": null,
      "outputs": []
    },
    {
      "cell_type": "code",
      "source": [
        "name = [\"Harry\", \"Emma\", \"Ronnie\", \"Draco\"]"
      ],
      "metadata": {
        "id": "KJQ1J4kbnOND"
      },
      "execution_count": null,
      "outputs": []
    },
    {
      "cell_type": "code",
      "source": [
        "name.index(\"Emma\")"
      ],
      "metadata": {
        "id": "LRT1hJ-0nYAI"
      },
      "execution_count": null,
      "outputs": []
    },
    {
      "cell_type": "code",
      "source": [
        "# pop() : Removes the last element and returns of the list "
      ],
      "metadata": {
        "id": "SxCv69TnsDnL"
      },
      "execution_count": null,
      "outputs": []
    },
    {
      "cell_type": "code",
      "source": [
        "name = [\"Mihir\", \"Emma\", \"Harry\", \"Ronnie\"]"
      ],
      "metadata": {
        "id": "ugS6cy8KsWHI"
      },
      "execution_count": null,
      "outputs": []
    },
    {
      "cell_type": "code",
      "source": [
        "drop = name.pop()\n",
        "\n",
        "print(drop)"
      ],
      "metadata": {
        "id": "GZFd3Oi7sXKa"
      },
      "execution_count": null,
      "outputs": []
    },
    {
      "cell_type": "code",
      "source": [
        "name = [\"Mihir\", \"Emma\", \"Harry\", \"Ronnie\"]"
      ],
      "metadata": {
        "id": "UielziMOtBrX"
      },
      "execution_count": null,
      "outputs": []
    },
    {
      "cell_type": "code",
      "source": [
        "# remove() : Removes the first item with the specified value\n",
        "\n",
        "name.remove(\"Harry\")\n",
        "\n",
        "print(name)"
      ],
      "metadata": {
        "id": "lfK5fcBNs9-w"
      },
      "execution_count": null,
      "outputs": []
    },
    {
      "cell_type": "code",
      "source": [
        "# sort() : Sorts the list\n",
        "\n",
        "ls = [200, 400, 100, 300, 500]\n",
        "\n",
        "ls.sort()\n",
        "\n",
        "print(ls)"
      ],
      "metadata": {
        "id": "NqhBsKFOtYHJ"
      },
      "execution_count": null,
      "outputs": []
    },
    {
      "cell_type": "code",
      "source": [
        "# insert(): Adds an element at the specified position\n",
        "\n",
        "name = [\"Mihir\", \"Harry\"]\n",
        "\n",
        "name.insert(1, \"Emma\")\n",
        "\n",
        "print(name)\n",
        "\n",
        "name.insert(3, \"Ronnie\")\n",
        "\n",
        "print(name)"
      ],
      "metadata": {
        "id": "_ql6LFEFtzB3"
      },
      "execution_count": null,
      "outputs": []
    },
    {
      "cell_type": "markdown",
      "source": [
        "**Append & Extend in Lists**"
      ],
      "metadata": {
        "id": "4yxgFr-musq-"
      }
    },
    {
      "cell_type": "code",
      "source": [
        "# append() function \n",
        "l = [1, 2, 3, 4, 5]"
      ],
      "metadata": {
        "id": "Y7MP79PEuz9U"
      },
      "execution_count": null,
      "outputs": []
    },
    {
      "cell_type": "code",
      "source": [
        "l.append(6)\n",
        "l.append(7)\n",
        "l.append(8)\n",
        "l.append(\"Mihir\")\n",
        "l.append(\"Advaith\")"
      ],
      "metadata": {
        "id": "aRRvHf86OSIm"
      },
      "execution_count": null,
      "outputs": []
    },
    {
      "cell_type": "code",
      "source": [
        "print(l)"
      ],
      "metadata": {
        "id": "C6Z2MdOZO_R6"
      },
      "execution_count": null,
      "outputs": []
    },
    {
      "cell_type": "code",
      "source": [
        "a = [10, 20, 30]"
      ],
      "metadata": {
        "id": "oRF2Gc8hPOtS"
      },
      "execution_count": null,
      "outputs": []
    },
    {
      "cell_type": "code",
      "source": [
        "l.append(a)"
      ],
      "metadata": {
        "id": "NmEe_GIWPVOJ"
      },
      "execution_count": null,
      "outputs": []
    },
    {
      "cell_type": "code",
      "source": [
        "print(l)"
      ],
      "metadata": {
        "id": "QYFAduRfPZpL"
      },
      "execution_count": null,
      "outputs": []
    },
    {
      "cell_type": "code",
      "source": [
        "# extend() function\n",
        "l2 = [1, 2, 3, 4, 5]"
      ],
      "metadata": {
        "id": "nc7ODQnoPvW0"
      },
      "execution_count": null,
      "outputs": []
    },
    {
      "cell_type": "code",
      "source": [
        "l3 = [6, 7, 8, 9, 10]"
      ],
      "metadata": {
        "id": "D6sOyJyGP50C"
      },
      "execution_count": null,
      "outputs": []
    },
    {
      "cell_type": "code",
      "source": [
        "l2.extend(l3)\n",
        "\n",
        "print(l2)"
      ],
      "metadata": {
        "id": "UBN_Xi9HP_o_"
      },
      "execution_count": null,
      "outputs": []
    },
    {
      "cell_type": "code",
      "source": [
        "s = \"Mihir\"\n",
        "\n",
        "for i in s:\n",
        "    print(i)"
      ],
      "metadata": {
        "id": "lcJMdo50QfjK"
      },
      "execution_count": null,
      "outputs": []
    },
    {
      "cell_type": "code",
      "source": [
        "l2.extend(s)\n",
        "\n",
        "print(l2)"
      ],
      "metadata": {
        "id": "yE1RXHj8Q4cn"
      },
      "execution_count": null,
      "outputs": []
    },
    {
      "cell_type": "markdown",
      "source": [
        "**Heterogenous Lists**"
      ],
      "metadata": {
        "id": "0lhlg8kI83kD"
      }
    },
    {
      "cell_type": "code",
      "source": [
        "items = [5, \"Lisa\", 1.5, True, 53j]"
      ],
      "metadata": {
        "id": "iekxIRp_9FLd"
      },
      "execution_count": null,
      "outputs": []
    },
    {
      "cell_type": "code",
      "source": [
        "type(items)"
      ],
      "metadata": {
        "id": "hWtNVAicR5it"
      },
      "execution_count": null,
      "outputs": []
    },
    {
      "cell_type": "code",
      "source": [
        "print(type(items[0]))\n",
        "print(type(items[1]))\n",
        "print(type(items[2]))\n",
        "print(type(items[3]))\n",
        "print(type(items[4])) # complex "
      ],
      "metadata": {
        "id": "cl1a1eGsR-eY"
      },
      "execution_count": null,
      "outputs": []
    },
    {
      "cell_type": "code",
      "source": [
        "for i in items:\n",
        "    print(i)"
      ],
      "metadata": {
        "id": "ILCFCZxWUdP4"
      },
      "execution_count": null,
      "outputs": []
    },
    {
      "cell_type": "markdown",
      "source": [
        "**2-D Lists**"
      ],
      "metadata": {
        "id": "QefBoTAk9Nid"
      }
    },
    {
      "cell_type": "code",
      "source": [
        "l1 = [1, 2, 3]\n",
        "l2 = [4, 5, 6]\n",
        "l3 = [7, 8, 9]\n",
        "\n",
        "lists = [l1, l2, l3]"
      ],
      "metadata": {
        "id": "V9Ek18dw9Rud"
      },
      "execution_count": null,
      "outputs": []
    },
    {
      "cell_type": "code",
      "source": [
        "print(lists)"
      ],
      "metadata": {
        "id": "0vpdTXHnT5tk"
      },
      "execution_count": null,
      "outputs": []
    },
    {
      "cell_type": "code",
      "source": [
        "# indexing \n",
        "print(lists[0])\n",
        "print(lists[1])\n",
        "print(lists[2])"
      ],
      "metadata": {
        "id": "UD3EljhHUIE6"
      },
      "execution_count": null,
      "outputs": []
    },
    {
      "cell_type": "code",
      "source": [
        "lists"
      ],
      "metadata": {
        "id": "xAqO3FjGVqCo"
      },
      "execution_count": null,
      "outputs": []
    },
    {
      "cell_type": "code",
      "source": [
        "lists[0][1]"
      ],
      "metadata": {
        "id": "hTIyhMsRVVpS"
      },
      "execution_count": null,
      "outputs": []
    },
    {
      "cell_type": "code",
      "source": [
        "lists[1][2]"
      ],
      "metadata": {
        "id": "458i0r7kVceg"
      },
      "execution_count": null,
      "outputs": []
    },
    {
      "cell_type": "code",
      "source": [
        "lists[2][0]"
      ],
      "metadata": {
        "id": "E7AqgO7IhvmD"
      },
      "execution_count": null,
      "outputs": []
    },
    {
      "cell_type": "markdown",
      "source": [
        "**Iteration in 2D List**"
      ],
      "metadata": {
        "id": "B1RmfsH19i4O"
      }
    },
    {
      "cell_type": "code",
      "source": [
        "lists"
      ],
      "metadata": {
        "id": "PszegX1f9pLi"
      },
      "execution_count": null,
      "outputs": []
    },
    {
      "cell_type": "code",
      "source": [
        "for i in lists:\n",
        "    print(i)"
      ],
      "metadata": {
        "id": "KspArcKMmI8Q"
      },
      "execution_count": null,
      "outputs": []
    },
    {
      "cell_type": "code",
      "source": [
        "l1"
      ],
      "metadata": {
        "id": "qU0O9GxAqu31"
      },
      "execution_count": null,
      "outputs": []
    },
    {
      "cell_type": "code",
      "source": [
        "for i in l1:\n",
        "    print(i)"
      ],
      "metadata": {
        "id": "4g5eypZaqqLk"
      },
      "execution_count": null,
      "outputs": []
    },
    {
      "cell_type": "code",
      "source": [
        "lists"
      ],
      "metadata": {
        "id": "G1-fFVg-q-Gb"
      },
      "execution_count": null,
      "outputs": []
    },
    {
      "cell_type": "code",
      "source": [
        "for i in lists:\n",
        "    for j in lists:\n",
        "        print(j)"
      ],
      "metadata": {
        "id": "NL9PdH0nqzsD"
      },
      "execution_count": null,
      "outputs": []
    },
    {
      "cell_type": "markdown",
      "source": [
        "**List Comprehension**"
      ],
      "metadata": {
        "id": "kAOOFz5k9ufl"
      }
    },
    {
      "cell_type": "code",
      "source": [
        "for i in range(10):\n",
        "    print(i)"
      ],
      "metadata": {
        "id": "qh2gwmp_90Jj"
      },
      "execution_count": null,
      "outputs": []
    },
    {
      "cell_type": "code",
      "source": [
        "for i in range(10):\n",
        "    print(i ** 2)"
      ],
      "metadata": {
        "id": "Utmkhp6kwzdw"
      },
      "execution_count": null,
      "outputs": []
    },
    {
      "cell_type": "code",
      "source": [
        "items = []\n",
        "\n",
        "for i in range(10):\n",
        "    items.append(i)\n",
        "print(items)"
      ],
      "metadata": {
        "id": "a4fhBN8WwIFv"
      },
      "execution_count": null,
      "outputs": []
    },
    {
      "cell_type": "code",
      "source": [
        "items = []\n",
        "\n",
        "for i in range(10):\n",
        "    items.append(i ** 2)\n",
        "print(items)"
      ],
      "metadata": {
        "id": "yjqJYaKgxYmC"
      },
      "execution_count": null,
      "outputs": []
    },
    {
      "cell_type": "code",
      "source": [
        "items = [i for i in range(10)]\n",
        "\n",
        "print(items)"
      ],
      "metadata": {
        "id": "jheuFcZOwzWL"
      },
      "execution_count": null,
      "outputs": []
    },
    {
      "cell_type": "code",
      "source": [
        "items = [i ** 2 for i in range(10)]\n",
        "\n",
        "print(items)"
      ],
      "metadata": {
        "id": "9HpVufJdxe_C"
      },
      "execution_count": null,
      "outputs": []
    },
    {
      "cell_type": "markdown",
      "source": [
        "**Challenge : Print Largest**"
      ],
      "metadata": {
        "id": "FvrSzyzb92hF"
      }
    },
    {
      "cell_type": "markdown",
      "source": [
        "**Find maximum in a list**\n",
        "\n",
        "- Given marks of students in a class. Find topper of the class\n",
        "- Consider that list is non empty\n"
      ],
      "metadata": {
        "id": "_PYsi_IbyK34"
      }
    },
    {
      "cell_type": "code",
      "source": [
        "marks = [90, 30, 100, 20, 70, 50]"
      ],
      "metadata": {
        "id": "AVXYM-sP99sa"
      },
      "execution_count": null,
      "outputs": []
    },
    {
      "cell_type": "code",
      "source": [
        "# iterate on the list \n",
        "highest = marks[0]\n",
        "for i in marks:\n",
        "    if i > highest:\n",
        "        highest = i\n",
        "print(highest)"
      ],
      "metadata": {
        "id": "Wwy0xV5nyolT"
      },
      "execution_count": null,
      "outputs": []
    },
    {
      "cell_type": "code",
      "source": [
        "# maximum: max() function \n",
        "max(marks)"
      ],
      "metadata": {
        "id": "2gWrp9EGz3ow"
      },
      "execution_count": null,
      "outputs": []
    },
    {
      "cell_type": "code",
      "source": [
        "# minimum: min() function \n",
        "min(marks)"
      ],
      "metadata": {
        "id": "wbsrCKfUz_Vo"
      },
      "execution_count": null,
      "outputs": []
    },
    {
      "cell_type": "markdown",
      "source": [
        "**Challenge : Find total population**"
      ],
      "metadata": {
        "id": "BMXArqz59_oZ"
      }
    },
    {
      "cell_type": "markdown",
      "source": [
        "- given a list of population sensus done by GOV. You need to find the total population\n",
        "- each element in the list represents total members in a family\n",
        "- ls = [4, 6, 5, 8, 9, 3, 2, 4, 5, 4, 3, 2, 3, 4]\n"
      ],
      "metadata": {
        "id": "9xKBGQGi1BMI"
      }
    },
    {
      "cell_type": "code",
      "source": [
        "# access all the elements of this list \n",
        "ls = [4, 6, 5, 8, 9, 3, 2, 4, 5, 4, 3, 2, 3, 4]\n",
        "\n",
        "population = 0\n",
        "\n",
        "for i in ls:\n",
        "    # sum them all \n",
        "    population += i\n",
        "print(population)"
      ],
      "metadata": {
        "id": "iLWSMute1nTT"
      },
      "execution_count": null,
      "outputs": []
    },
    {
      "cell_type": "code",
      "source": [
        "# sum() function \n",
        "ls = [4, 6, 5, 8, 9, 3, 2, 4, 5, 4, 3, 2, 3, 4]\n",
        "\n",
        "sum(ls) "
      ],
      "metadata": {
        "id": "1bFpgYfp-J00"
      },
      "execution_count": null,
      "outputs": []
    },
    {
      "cell_type": "markdown",
      "source": [
        "## **10. Tuples**"
      ],
      "metadata": {
        "id": "2k31pjzvME28"
      }
    },
    {
      "cell_type": "markdown",
      "source": [
        "**Intro to Tuples in Python**\n",
        "\n",
        "- Like list tuples are ordered collection of data\n",
        "- Unchangeable (Immutable)\n",
        "- Iterable \n",
        "- Can have heterogenous\n"
      ],
      "metadata": {
        "id": "5bVoslB1Mdxg"
      }
    },
    {
      "cell_type": "code",
      "source": [
        "planets = [\"Mercury\", \"Venus\", \"Earth\", \"Mars\", \"Jupiter\", \"Saturn\", \"Uranus\", \"Neptune\", \"Pluto\", \"Ceres\"] # list "
      ],
      "metadata": {
        "id": "niejHALUM-5l"
      },
      "execution_count": null,
      "outputs": []
    },
    {
      "cell_type": "code",
      "source": [
        "planet = (\"Mercury\", \"Venus\", \"Earth\", \"Mars\", \"Jupiter\", \"Saturn\", \"Uranus\", \"Neptune\", \"Pluto\", \"Ceres\") # tuple"
      ],
      "metadata": {
        "id": "SRXCfwwjQxoT"
      },
      "execution_count": null,
      "outputs": []
    },
    {
      "cell_type": "code",
      "source": [
        "type(planet)"
      ],
      "metadata": {
        "id": "qDFFbclyRCT1"
      },
      "execution_count": null,
      "outputs": []
    },
    {
      "cell_type": "code",
      "source": [
        "# indexing\n",
        "\n",
        "planet[3]"
      ],
      "metadata": {
        "id": "aSFgaCc4RHt9"
      },
      "execution_count": null,
      "outputs": []
    },
    {
      "cell_type": "code",
      "source": [
        "# slicing\n",
        "\n",
        "planet[1:4]"
      ],
      "metadata": {
        "id": "e-Wb8X6fRV1I"
      },
      "execution_count": null,
      "outputs": []
    },
    {
      "cell_type": "code",
      "source": [
        "# change values\n",
        "\n",
        "# planet[2] = \"Eris\" # error, you can't change the tuple values "
      ],
      "metadata": {
        "id": "JCOq0Kc8RdGo"
      },
      "execution_count": null,
      "outputs": []
    },
    {
      "cell_type": "code",
      "source": [
        "t = (\"Advaith\", 5.5, 10.3, True)"
      ],
      "metadata": {
        "id": "XvKqLyp6SHGI"
      },
      "execution_count": null,
      "outputs": []
    },
    {
      "cell_type": "code",
      "source": [
        "type(t)"
      ],
      "metadata": {
        "id": "UAA39a3FSST2"
      },
      "execution_count": null,
      "outputs": []
    },
    {
      "cell_type": "markdown",
      "source": [
        "**Creating a Tuple**"
      ],
      "metadata": {
        "id": "tsFz-PokMh--"
      }
    },
    {
      "cell_type": "code",
      "source": [
        "# creating empty tuple "
      ],
      "metadata": {
        "id": "r8MnrE5ZSZn-"
      },
      "execution_count": null,
      "outputs": []
    },
    {
      "cell_type": "code",
      "source": [
        "t = ()\n",
        "\n",
        "print(type(t))"
      ],
      "metadata": {
        "id": "M0pPTSK9SdFI"
      },
      "execution_count": null,
      "outputs": []
    },
    {
      "cell_type": "code",
      "source": [
        "# tuple() function\n",
        "\n",
        "t1 = tuple()\n",
        "print(t1)"
      ],
      "metadata": {
        "id": "aiDbjPN9S0K-"
      },
      "execution_count": null,
      "outputs": []
    },
    {
      "cell_type": "code",
      "source": [
        "print(t, t1)"
      ],
      "metadata": {
        "id": "-WcjZKFiS_F2"
      },
      "execution_count": null,
      "outputs": []
    },
    {
      "cell_type": "code",
      "source": [
        "# Non empty tuple"
      ],
      "metadata": {
        "id": "FPcfE1qKTlxI"
      },
      "execution_count": null,
      "outputs": []
    },
    {
      "cell_type": "code",
      "source": [
        "t2 = (2)\n",
        "type(t2)"
      ],
      "metadata": {
        "id": "73NNpTOpToU_"
      },
      "execution_count": null,
      "outputs": []
    },
    {
      "cell_type": "code",
      "source": [
        " # don't forget when creating a tuple make sure use the , (comma) symbol \n",
        "t3 = (2,) \n",
        "type(t3)"
      ],
      "metadata": {
        "id": "X0PbB7EWTtvQ"
      },
      "execution_count": null,
      "outputs": []
    },
    {
      "cell_type": "code",
      "source": [
        "print(t3)"
      ],
      "metadata": {
        "id": "40sbDC1MUKJh"
      },
      "execution_count": null,
      "outputs": []
    },
    {
      "cell_type": "code",
      "source": [
        "t4 = tuple(\"Mihir\")\n",
        "\n",
        "print(t4)\n",
        "print(type(t4))"
      ],
      "metadata": {
        "id": "P-V5UW3hUO6w"
      },
      "execution_count": null,
      "outputs": []
    },
    {
      "cell_type": "code",
      "source": [
        "t = (10, 20, 30)\n",
        "\n",
        "print(t)\n",
        "print(len(t))"
      ],
      "metadata": {
        "id": "8jKDVNutUoR_"
      },
      "execution_count": null,
      "outputs": []
    },
    {
      "cell_type": "code",
      "source": [
        "# list inside the tuple\n",
        "t = ([1, 2, 3], [4, 5, 6])\n",
        "print(len(t))\n",
        "print(type(t))\n",
        "print(t)"
      ],
      "metadata": {
        "id": "ol90ADkDU7zV"
      },
      "execution_count": null,
      "outputs": []
    },
    {
      "cell_type": "code",
      "source": [
        "t[0]"
      ],
      "metadata": {
        "id": "-6g8nqJqVaPO"
      },
      "execution_count": null,
      "outputs": []
    },
    {
      "cell_type": "code",
      "source": [
        "type(t[0])"
      ],
      "metadata": {
        "id": "9wnbosVpVc25"
      },
      "execution_count": null,
      "outputs": []
    },
    {
      "cell_type": "markdown",
      "source": [
        "**Mutability in tuples**"
      ],
      "metadata": {
        "id": "quGgSIXRMmmx"
      }
    },
    {
      "cell_type": "code",
      "source": [
        "t = (1, 2, 3, 4)"
      ],
      "metadata": {
        "id": "Us1mcL8RVk8U"
      },
      "execution_count": null,
      "outputs": []
    },
    {
      "cell_type": "code",
      "source": [
        "# t[0] = 45 # error "
      ],
      "metadata": {
        "id": "taOU0pBlV9zF"
      },
      "execution_count": null,
      "outputs": []
    },
    {
      "cell_type": "code",
      "source": [
        "# tuples are immutable \n",
        "# lists are mutable "
      ],
      "metadata": {
        "id": "qGzv9qcoWa8G"
      },
      "execution_count": null,
      "outputs": []
    },
    {
      "cell_type": "code",
      "source": [
        "t = ([1, 2, 3], \"Advaith\")"
      ],
      "metadata": {
        "id": "AIXlrO1bWELV"
      },
      "execution_count": null,
      "outputs": []
    },
    {
      "cell_type": "code",
      "source": [
        "type(t)"
      ],
      "metadata": {
        "id": "9Rk0Nc9HWKBJ"
      },
      "execution_count": null,
      "outputs": []
    },
    {
      "cell_type": "code",
      "source": [
        "type(t[0])"
      ],
      "metadata": {
        "id": "cE3ZRMvYWLmO"
      },
      "execution_count": null,
      "outputs": []
    },
    {
      "cell_type": "code",
      "source": [
        "t[0][0] = 45"
      ],
      "metadata": {
        "id": "NKkQRXeLWO7O"
      },
      "execution_count": null,
      "outputs": []
    },
    {
      "cell_type": "code",
      "source": [
        "print(t)"
      ],
      "metadata": {
        "id": "LHalSiwhWykN"
      },
      "execution_count": null,
      "outputs": []
    },
    {
      "cell_type": "code",
      "source": [
        "type(t)"
      ],
      "metadata": {
        "id": "eJa0gwueW1z5"
      },
      "execution_count": null,
      "outputs": []
    },
    {
      "cell_type": "markdown",
      "source": [
        "**Tuple unpacking**"
      ],
      "metadata": {
        "id": "B5GHvHMwMsQM"
      }
    },
    {
      "cell_type": "code",
      "source": [
        "a = 4\n",
        "b = 5\n",
        "c = 8\n",
        "\n",
        "print(a, b, c)"
      ],
      "metadata": {
        "id": "2AljOI_5XNj_"
      },
      "execution_count": null,
      "outputs": []
    },
    {
      "cell_type": "code",
      "source": [
        "a, b, c = 4, 5, 8 # multiple variables \n",
        "print(a, b, c)"
      ],
      "metadata": {
        "id": "SZO-M83mXfFY"
      },
      "execution_count": null,
      "outputs": []
    },
    {
      "cell_type": "code",
      "source": [
        "t = (1, 2, 3, 4) \n",
        "\n",
        "a, b, c, d = t # assign t to the variables \n",
        "\n",
        "print(a, b, c, d)\n",
        "\n",
        "# This process is known as unpacking "
      ],
      "metadata": {
        "id": "tGJHVy7VX0H5"
      },
      "execution_count": null,
      "outputs": []
    },
    {
      "cell_type": "markdown",
      "source": [
        "**Tuple operations**"
      ],
      "metadata": {
        "id": "LOc3zYkUMwSw"
      }
    },
    {
      "cell_type": "code",
      "source": [
        "# count "
      ],
      "metadata": {
        "id": "JACsUl7vYgms"
      },
      "execution_count": null,
      "outputs": []
    },
    {
      "cell_type": "code",
      "source": [
        "t = (1, 2, 3, 4, 1)"
      ],
      "metadata": {
        "id": "FxDPb3YkYyA4"
      },
      "execution_count": null,
      "outputs": []
    },
    {
      "cell_type": "code",
      "source": [
        "type(t)"
      ],
      "metadata": {
        "id": "J6KWH7oqY1QJ"
      },
      "execution_count": null,
      "outputs": []
    },
    {
      "cell_type": "code",
      "source": [
        "t.count(1)"
      ],
      "metadata": {
        "id": "8NqkUZdGY3SJ"
      },
      "execution_count": null,
      "outputs": []
    },
    {
      "cell_type": "code",
      "source": [
        "t.count(45)"
      ],
      "metadata": {
        "id": "q8OTL7KPZVML"
      },
      "execution_count": null,
      "outputs": []
    },
    {
      "cell_type": "code",
      "source": [
        "# index "
      ],
      "metadata": {
        "id": "mgWRBcA2ZX2N"
      },
      "execution_count": null,
      "outputs": []
    },
    {
      "cell_type": "code",
      "source": [
        "t.index(3)"
      ],
      "metadata": {
        "id": "deBjJ-T-ZZUL"
      },
      "execution_count": null,
      "outputs": []
    },
    {
      "cell_type": "code",
      "source": [
        "# iteration"
      ],
      "metadata": {
        "id": "EI8zdqqVZo5_"
      },
      "execution_count": null,
      "outputs": []
    },
    {
      "cell_type": "code",
      "source": [
        "t = (1, 2, 3, 4)"
      ],
      "metadata": {
        "id": "MZ6wSgoYZq_j"
      },
      "execution_count": null,
      "outputs": []
    },
    {
      "cell_type": "code",
      "source": [
        "len(t)"
      ],
      "metadata": {
        "id": "fFUuaGZTZu3g"
      },
      "execution_count": null,
      "outputs": []
    },
    {
      "cell_type": "code",
      "source": [
        "for i in t:\n",
        "    print(i)"
      ],
      "metadata": {
        "id": "peZRGkGQZ4Aj"
      },
      "execution_count": null,
      "outputs": []
    },
    {
      "cell_type": "code",
      "source": [
        "for i in t:\n",
        "    print(i ** 2)"
      ],
      "metadata": {
        "id": "MZMY-fMkZ_oJ"
      },
      "execution_count": null,
      "outputs": []
    },
    {
      "cell_type": "code",
      "source": [
        "# concatenation "
      ],
      "metadata": {
        "id": "CIIzbhq8aCZQ"
      },
      "execution_count": null,
      "outputs": []
    },
    {
      "cell_type": "code",
      "source": [
        "t = (1, 2, 3, 4)"
      ],
      "metadata": {
        "id": "oNeDuTHhaETM"
      },
      "execution_count": null,
      "outputs": []
    },
    {
      "cell_type": "code",
      "source": [
        "t1 = (5, 6, 7)"
      ],
      "metadata": {
        "id": "vQaDEGvpaKuR"
      },
      "execution_count": null,
      "outputs": []
    },
    {
      "cell_type": "code",
      "source": [
        "t2 = t + t1"
      ],
      "metadata": {
        "id": "kisD8LjbaVfP"
      },
      "execution_count": null,
      "outputs": []
    },
    {
      "cell_type": "code",
      "source": [
        "print(t2)"
      ],
      "metadata": {
        "id": "lCRbdn2YaZ7G"
      },
      "execution_count": null,
      "outputs": []
    },
    {
      "cell_type": "code",
      "source": [
        "t2 * 2"
      ],
      "metadata": {
        "id": "yi_RD2VLacFH"
      },
      "execution_count": null,
      "outputs": []
    },
    {
      "cell_type": "code",
      "source": [
        "# tuple to list and list to tuple "
      ],
      "metadata": {
        "id": "a0FqMAwEagGX"
      },
      "execution_count": null,
      "outputs": []
    },
    {
      "cell_type": "code",
      "source": [
        "t = (1, 2, 3)"
      ],
      "metadata": {
        "id": "hLA7NK2uak2p"
      },
      "execution_count": null,
      "outputs": []
    },
    {
      "cell_type": "code",
      "source": [
        "lst = list(t) # convert tuple to list "
      ],
      "metadata": {
        "id": "blRFy2aYaspe"
      },
      "execution_count": null,
      "outputs": []
    },
    {
      "cell_type": "code",
      "source": [
        "type(lst)"
      ],
      "metadata": {
        "id": "cuPirY6wa61m"
      },
      "execution_count": null,
      "outputs": []
    },
    {
      "cell_type": "code",
      "source": [
        "print(lst)"
      ],
      "metadata": {
        "id": "FzQBEILVawLO"
      },
      "execution_count": null,
      "outputs": []
    },
    {
      "cell_type": "code",
      "source": [
        "t = tuple(lst) # convert list to tuple "
      ],
      "metadata": {
        "id": "pcF25l55ayEe"
      },
      "execution_count": null,
      "outputs": []
    },
    {
      "cell_type": "code",
      "source": [
        "print(t)"
      ],
      "metadata": {
        "id": "9g-KA8G9a1kd"
      },
      "execution_count": null,
      "outputs": []
    },
    {
      "cell_type": "code",
      "source": [
        "type(t)"
      ],
      "metadata": {
        "id": "PZPx_Rf_a3Ml"
      },
      "execution_count": null,
      "outputs": []
    },
    {
      "cell_type": "markdown",
      "source": [
        "## **11. Dictionary**"
      ],
      "metadata": {
        "id": "va6GCPWxbLnp"
      }
    },
    {
      "cell_type": "markdown",
      "source": [
        "**Introduction to Dictionary**"
      ],
      "metadata": {
        "id": "s873lOC5bYV_"
      }
    },
    {
      "cell_type": "markdown",
      "source": [
        "**Dictionary :**\n",
        "\n",
        "- Dictionary has key value pair form of data\n",
        "- Dictionaries are ordered (Python 3.7 and above versions)\n",
        "- Does not support indexing\n",
        "- Data can be accessed using key\n"
      ],
      "metadata": {
        "id": "8LkPxFsWVw4M"
      }
    },
    {
      "cell_type": "markdown",
      "source": [
        "**Creating Dictionary**"
      ],
      "metadata": {
        "id": "FRErmMAlVhp7"
      }
    },
    {
      "cell_type": "code",
      "source": [
        "d = {}\n",
        "print(type(d))\n",
        "print(d)"
      ],
      "metadata": {
        "id": "0njlp7D6XAap"
      },
      "execution_count": null,
      "outputs": []
    },
    {
      "cell_type": "code",
      "source": [
        "d = dict()\n",
        "print(type(d))\n",
        "print(d)"
      ],
      "metadata": {
        "id": "kuThimcqXgUA"
      },
      "execution_count": null,
      "outputs": []
    },
    {
      "cell_type": "code",
      "source": [
        "# creating non empty dictionary"
      ],
      "metadata": {
        "id": "B-2mRcL9Xp7u"
      },
      "execution_count": null,
      "outputs": []
    },
    {
      "cell_type": "code",
      "source": [
        "fruits = {\n",
        "    \"apple\" : 100,\n",
        "    \"mango\" : 120,\n",
        "    \"cherry\" : 50\n",
        "}"
      ],
      "metadata": {
        "id": "t_mGUWNKXxqc"
      },
      "execution_count": null,
      "outputs": []
    },
    {
      "cell_type": "code",
      "source": [
        "type(fruits)"
      ],
      "metadata": {
        "id": "2hhGyqLpYOjb"
      },
      "execution_count": null,
      "outputs": []
    },
    {
      "cell_type": "code",
      "source": [
        "print(fruits)"
      ],
      "metadata": {
        "id": "jA5INeAnYRX5"
      },
      "execution_count": null,
      "outputs": []
    },
    {
      "cell_type": "code",
      "source": [
        "# zip() function "
      ],
      "metadata": {
        "id": "JPtbRKTQYu_b"
      },
      "execution_count": null,
      "outputs": []
    },
    {
      "cell_type": "code",
      "source": [
        "name = [\"Apple\", \"Mango\", \"Bananas\"]\n",
        "price = [120, 100, 140]"
      ],
      "metadata": {
        "id": "Yl25gs-7Yx31"
      },
      "execution_count": null,
      "outputs": []
    },
    {
      "cell_type": "code",
      "source": [
        "fruit = dict(zip(name, price))\n",
        "\n",
        "print(fruit)"
      ],
      "metadata": {
        "id": "U4_4N6NdZDGz"
      },
      "execution_count": null,
      "outputs": []
    },
    {
      "cell_type": "code",
      "source": [
        "len(fruit)"
      ],
      "metadata": {
        "id": "msITXIRnZQIM"
      },
      "execution_count": null,
      "outputs": []
    },
    {
      "cell_type": "markdown",
      "source": [
        "**Accessing Data in Dictionary**"
      ],
      "metadata": {
        "id": "pdVix1ulVmGp"
      }
    },
    {
      "cell_type": "markdown",
      "source": [
        "**Accessing Elements**\n",
        "\n",
        "- Dictionaries does not support indexing"
      ],
      "metadata": {
        "id": "nde6o3w4aDac"
      }
    },
    {
      "cell_type": "code",
      "source": [
        "# using key"
      ],
      "metadata": {
        "id": "ieFZ3wIOabAi"
      },
      "execution_count": null,
      "outputs": []
    },
    {
      "cell_type": "code",
      "source": [
        "fruits = {\n",
        "    \"Apple\" : 100,\n",
        "    \"Mango\" :120,\n",
        "    \"Oranges\" : 140\n",
        "}"
      ],
      "metadata": {
        "id": "4qgjrB8Hac1Y"
      },
      "execution_count": null,
      "outputs": []
    },
    {
      "cell_type": "code",
      "source": [
        "fruits['Apple']"
      ],
      "metadata": {
        "id": "PxqRDq-8arM7"
      },
      "execution_count": null,
      "outputs": []
    },
    {
      "cell_type": "code",
      "source": [
        "fruits[\"Mango\"]"
      ],
      "metadata": {
        "id": "E4ifCUytbAbM"
      },
      "execution_count": null,
      "outputs": []
    },
    {
      "cell_type": "code",
      "source": [
        "fruits[\"Oranges\"]"
      ],
      "metadata": {
        "id": "Jw7sSRF5ar9D"
      },
      "execution_count": null,
      "outputs": []
    },
    {
      "cell_type": "code",
      "source": [
        "# fruits[\"Guava\"] # error "
      ],
      "metadata": {
        "id": "Z7xwsKU0cEjx"
      },
      "execution_count": null,
      "outputs": []
    },
    {
      "cell_type": "code",
      "source": [
        "# get() method : To avoid errors "
      ],
      "metadata": {
        "id": "Mq1_XsImbKKR"
      },
      "execution_count": null,
      "outputs": []
    },
    {
      "cell_type": "code",
      "source": [
        "fruits"
      ],
      "metadata": {
        "id": "FoeKAg_VbPJU"
      },
      "execution_count": null,
      "outputs": []
    },
    {
      "cell_type": "code",
      "source": [
        "fruits.get(\"Apple\")"
      ],
      "metadata": {
        "id": "3cHDRczRbeD9"
      },
      "execution_count": null,
      "outputs": []
    },
    {
      "cell_type": "code",
      "source": [
        "fruits.get(\"Guava\")"
      ],
      "metadata": {
        "id": "0bb7d4Elbj9h"
      },
      "execution_count": null,
      "outputs": []
    },
    {
      "cell_type": "code",
      "source": [
        "fruits.get(\"Guava\", \"Not Available\")"
      ],
      "metadata": {
        "id": "YXXXXNZBbscQ"
      },
      "execution_count": null,
      "outputs": []
    },
    {
      "cell_type": "code",
      "source": [
        "fruits.get(\"Guava\", 404)"
      ],
      "metadata": {
        "id": "qOvTEEAPb6Ru"
      },
      "execution_count": null,
      "outputs": []
    },
    {
      "cell_type": "markdown",
      "source": [
        "**Updating a Dictionary**\n",
        "\n",
        "- Using key\n",
        "- Update\n"
      ],
      "metadata": {
        "id": "R_aUFfQQZWzZ"
      }
    },
    {
      "cell_type": "code",
      "source": [
        "fruits = {\n",
        "    \"apple\" : 120,\n",
        "    \"mango\" :100,\n",
        "    \"pineapple\" : 90\n",
        "}"
      ],
      "metadata": {
        "id": "dgzZRLPdcTK4"
      },
      "execution_count": null,
      "outputs": []
    },
    {
      "cell_type": "code",
      "source": [
        "# updating existing value "
      ],
      "metadata": {
        "id": "3x0D_GWIcpiq"
      },
      "execution_count": null,
      "outputs": []
    },
    {
      "cell_type": "code",
      "source": [
        "print(fruits)"
      ],
      "metadata": {
        "id": "54_rd3ucct_R"
      },
      "execution_count": null,
      "outputs": []
    },
    {
      "cell_type": "code",
      "source": [
        "fruits[\"pineapple\"] = {\"small\" : 90, \"large\" : 100}"
      ],
      "metadata": {
        "id": "mJ8nR5E-dIbx"
      },
      "execution_count": null,
      "outputs": []
    },
    {
      "cell_type": "code",
      "source": [
        "print(fruits)"
      ],
      "metadata": {
        "id": "_4FyYJ3ZdWVe"
      },
      "execution_count": null,
      "outputs": []
    },
    {
      "cell_type": "code",
      "source": [
        "print(fruits[\"pineapple\"])"
      ],
      "metadata": {
        "id": "Xk21TO_VdaSI"
      },
      "execution_count": null,
      "outputs": []
    },
    {
      "cell_type": "markdown",
      "source": [
        "**Updating with new value in  Dict**"
      ],
      "metadata": {
        "id": "Wlq93KL4dtvN"
      }
    },
    {
      "cell_type": "code",
      "source": [
        "fruits[\"Guava\"] = 80 # new value \n",
        "\n",
        "fruits"
      ],
      "metadata": {
        "id": "rz4reMNZd08G"
      },
      "execution_count": null,
      "outputs": []
    },
    {
      "cell_type": "code",
      "source": [
        "# update multiple values \n",
        "\n",
        "new = {\"Grapes\" : 130, \"Oranges\" : 70, \"Cherry\" : 200}"
      ],
      "metadata": {
        "id": "IOQKuTnZeTFj"
      },
      "execution_count": null,
      "outputs": []
    },
    {
      "cell_type": "code",
      "source": [
        "# update() function \n",
        "\n",
        "fruits.update(new)"
      ],
      "metadata": {
        "id": "nkVmOzWIe2rj"
      },
      "execution_count": null,
      "outputs": []
    },
    {
      "cell_type": "code",
      "source": [
        "fruits"
      ],
      "metadata": {
        "id": "36SwEnDCe8Ka"
      },
      "execution_count": null,
      "outputs": []
    },
    {
      "cell_type": "markdown",
      "source": [
        "**Deletion Operations in Dictionary**"
      ],
      "metadata": {
        "id": "apSYLupIZgJw"
      }
    },
    {
      "cell_type": "markdown",
      "source": [
        "**Deleting Data**\n",
        "\n",
        "- pop()\n",
        "- popitem()\n",
        "- del "
      ],
      "metadata": {
        "id": "-QGOttF5fRJ8"
      }
    },
    {
      "cell_type": "code",
      "source": [
        "fruits = {\n",
        "    \"apple\" : 120,\n",
        "    \"mango\" : 130,\n",
        "    \"pineapple\" : 140\n",
        "}"
      ],
      "metadata": {
        "id": "p-dDQ8FTfbM2"
      },
      "execution_count": null,
      "outputs": []
    },
    {
      "cell_type": "code",
      "source": [
        "fruits"
      ],
      "metadata": {
        "id": "lGvJu_W-fdoS"
      },
      "execution_count": null,
      "outputs": []
    },
    {
      "cell_type": "code",
      "source": [
        "# Citizenship check"
      ],
      "metadata": {
        "id": "AeXbc1r6f5I-"
      },
      "execution_count": null,
      "outputs": []
    },
    {
      "cell_type": "code",
      "source": [
        "\"apple\" in fruits"
      ],
      "metadata": {
        "id": "yIgSRzShfsDl"
      },
      "execution_count": null,
      "outputs": []
    },
    {
      "cell_type": "code",
      "source": [
        "\"cherry\" in fruits"
      ],
      "metadata": {
        "id": "b_hAt_vXgHem"
      },
      "execution_count": null,
      "outputs": []
    },
    {
      "cell_type": "code",
      "source": [
        "# dict.pop(key)"
      ],
      "metadata": {
        "id": "fT7uA1L4gNVg"
      },
      "execution_count": null,
      "outputs": []
    },
    {
      "cell_type": "code",
      "source": [
        "fruits"
      ],
      "metadata": {
        "id": "Uf8ArlqjgbjI"
      },
      "execution_count": null,
      "outputs": []
    },
    {
      "cell_type": "code",
      "source": [
        "fruits.pop(\"apple\") # remove apple "
      ],
      "metadata": {
        "id": "CF_MMYQLgeXQ"
      },
      "execution_count": null,
      "outputs": []
    },
    {
      "cell_type": "code",
      "source": [
        "fruits"
      ],
      "metadata": {
        "id": "ZFVMcXcJgiPT"
      },
      "execution_count": null,
      "outputs": []
    },
    {
      "cell_type": "code",
      "source": [
        "# dict.popitem()"
      ],
      "metadata": {
        "id": "YKynWQX2fdsw"
      },
      "execution_count": null,
      "outputs": []
    },
    {
      "cell_type": "code",
      "source": [
        "fruits = {\n",
        "    \"apple\" : 120,\n",
        "    \"mango\" : 130,\n",
        "    \"pineapple\" : 140\n",
        "}"
      ],
      "metadata": {
        "id": "vHMTgSvmhSCH"
      },
      "execution_count": null,
      "outputs": []
    },
    {
      "cell_type": "code",
      "source": [
        "fruits"
      ],
      "metadata": {
        "id": "t9RFzJJFhULD"
      },
      "execution_count": null,
      "outputs": []
    },
    {
      "cell_type": "code",
      "source": [],
      "metadata": {
        "id": "gWbH7gSUhlyz"
      },
      "execution_count": null,
      "outputs": []
    },
    {
      "cell_type": "code",
      "source": [
        "fruits.popitem()"
      ],
      "metadata": {
        "id": "mE2vsfzUhVpp"
      },
      "execution_count": null,
      "outputs": []
    },
    {
      "cell_type": "code",
      "source": [
        "fruits"
      ],
      "metadata": {
        "id": "vaL0svjVhVuo"
      },
      "execution_count": null,
      "outputs": []
    },
    {
      "cell_type": "code",
      "source": [
        "fruits.popitem() "
      ],
      "metadata": {
        "id": "7_tJbjMDhV0w"
      },
      "execution_count": null,
      "outputs": []
    },
    {
      "cell_type": "code",
      "source": [
        "fruits"
      ],
      "metadata": {
        "id": "_um286rnhWFI"
      },
      "execution_count": null,
      "outputs": []
    },
    {
      "cell_type": "code",
      "source": [
        "# del object "
      ],
      "metadata": {
        "id": "2ooxzJ-ChWM9"
      },
      "execution_count": null,
      "outputs": []
    },
    {
      "cell_type": "code",
      "source": [
        "fruits = {\n",
        "    \"apple\" : 120,\n",
        "    \"mango\" : 130,\n",
        "    \"pineapple\" : 140\n",
        "}"
      ],
      "metadata": {
        "id": "xxm1LGkchwAm"
      },
      "execution_count": null,
      "outputs": []
    },
    {
      "cell_type": "code",
      "source": [
        "fruits"
      ],
      "metadata": {
        "id": "apEMwWK5h7BB"
      },
      "execution_count": null,
      "outputs": []
    },
    {
      "cell_type": "code",
      "source": [
        "del fruits"
      ],
      "metadata": {
        "id": "FTJon4-shwFW"
      },
      "execution_count": null,
      "outputs": []
    },
    {
      "cell_type": "code",
      "source": [
        "# fruits"
      ],
      "metadata": {
        "id": "OTH1Vgf6h3PJ"
      },
      "execution_count": null,
      "outputs": []
    },
    {
      "cell_type": "markdown",
      "source": [
        "**Iteration in Dictionary**"
      ],
      "metadata": {
        "id": "DyQMEEWeZldg"
      }
    },
    {
      "cell_type": "code",
      "source": [
        "fruits = {\n",
        "    \"apple\" : 120,\n",
        "    \"mango\" : 130,\n",
        "    \"pineapple\" : 140,\n",
        "    \"grapes\" : 110\n",
        "}"
      ],
      "metadata": {
        "id": "7SeAp3lQnPHk"
      },
      "execution_count": null,
      "outputs": []
    },
    {
      "cell_type": "code",
      "source": [
        "for i in fruits:\n",
        "    print(i)"
      ],
      "metadata": {
        "id": "rCKi815BnPTU"
      },
      "execution_count": null,
      "outputs": []
    },
    {
      "cell_type": "code",
      "source": [
        "fruits[\"apple\"]"
      ],
      "metadata": {
        "id": "cxHUYb8enPeh"
      },
      "execution_count": null,
      "outputs": []
    },
    {
      "cell_type": "code",
      "source": [
        "for i in fruits:\n",
        "    print(i, fruits[i])"
      ],
      "metadata": {
        "id": "lJ650w17nPoa"
      },
      "execution_count": null,
      "outputs": []
    },
    {
      "cell_type": "code",
      "source": [
        "# using dict.items() method "
      ],
      "metadata": {
        "id": "zdR9kFV9oMLt"
      },
      "execution_count": null,
      "outputs": []
    },
    {
      "cell_type": "code",
      "source": [
        "for key, value in fruits.items():\n",
        "    print(key, value)"
      ],
      "metadata": {
        "id": "iEIm53_0oebc"
      },
      "execution_count": null,
      "outputs": []
    },
    {
      "cell_type": "code",
      "source": [
        "fruits.items()"
      ],
      "metadata": {
        "id": "cukhqKE6ovM4"
      },
      "execution_count": null,
      "outputs": []
    },
    {
      "cell_type": "markdown",
      "source": [
        "**More Dictionary Methods**\n",
        "\n",
        "- keys()\n",
        "- values()\n",
        "- items()\n",
        "- copy()\n",
        "- pop()\n",
        "- popitem()\n",
        "- update()\n",
        "- clear()\n",
        "- get()\n",
        "- setdefault()\n",
        "\n",
        "[More Dict Methods](https://www.w3schools.com/python/python_ref_dictionary.asp)"
      ],
      "metadata": {
        "id": "gsrO85eJZtNc"
      }
    },
    {
      "cell_type": "code",
      "source": [
        "fruits = {\n",
        "    \"apple\" : 100,\n",
        "    \"mango\" : 120,\n",
        "    \"cherry\" : 130\n",
        "}"
      ],
      "metadata": {
        "id": "IFp_2Skfpm3c"
      },
      "execution_count": null,
      "outputs": []
    },
    {
      "cell_type": "code",
      "source": [
        "fruits.keys()"
      ],
      "metadata": {
        "id": "NovKVX4kpzmI"
      },
      "execution_count": null,
      "outputs": []
    },
    {
      "cell_type": "code",
      "source": [
        "fruits.values()"
      ],
      "metadata": {
        "id": "hDfkdYPZpzr1"
      },
      "execution_count": null,
      "outputs": []
    },
    {
      "cell_type": "code",
      "source": [
        "fruits.items()"
      ],
      "metadata": {
        "id": "k91TvUSNpzw6"
      },
      "execution_count": null,
      "outputs": []
    },
    {
      "cell_type": "code",
      "source": [
        "f = fruits.copy()"
      ],
      "metadata": {
        "id": "x7ys3Irxpz3j"
      },
      "execution_count": null,
      "outputs": []
    },
    {
      "cell_type": "code",
      "source": [
        "f"
      ],
      "metadata": {
        "id": "lPlEI5NsqYIa"
      },
      "execution_count": null,
      "outputs": []
    },
    {
      "cell_type": "code",
      "source": [
        "fruits"
      ],
      "metadata": {
        "id": "2gU5-12qqaOw"
      },
      "execution_count": null,
      "outputs": []
    },
    {
      "cell_type": "markdown",
      "source": [
        "**Challenge : Find frequency of Characters in a String**"
      ],
      "metadata": {
        "id": "FrF26dlRZyQr"
      }
    },
    {
      "cell_type": "markdown",
      "source": [
        "Take an input and find the freq of each letter and return the letter and their freq \n",
        "\n",
        "- ex: Mihir Chakma\n",
        "- \"M\" : 2\n",
        "- \"i\" : 2\n",
        "- \"H\" : 2\n",
        "- \"r\" : 1\n",
        "- \"C\" : 1\n",
        "- \"a\" : 2\n",
        "- \"k\" : 1\n"
      ],
      "metadata": {
        "id": "jaHv8qG4rQjI"
      }
    },
    {
      "cell_type": "code",
      "source": [
        "name = input(\"Type a name here : \")\n",
        "\n",
        "# create a empty dict \n",
        "freq = {}\n",
        "\n",
        "for i in name:\n",
        "    # check for presence \n",
        "    if i not in freq:\n",
        "        freq[i] = 1\n",
        "    # if present increment the freq by factor of 1 \n",
        "    else:\n",
        "        freq[i] += 1\n",
        "\n",
        "print(freq)"
      ],
      "metadata": {
        "id": "vzHzpPkytx1P"
      },
      "execution_count": null,
      "outputs": []
    },
    {
      "cell_type": "markdown",
      "source": [
        "## **12. Sets**"
      ],
      "metadata": {
        "id": "ih9QW3mlwhmz"
      }
    },
    {
      "cell_type": "markdown",
      "source": [
        "**Introduction to Sets in Python**\n",
        "\n",
        "- Unique collection\n",
        "- Unordered \n",
        "- Unindexed \n",
        "- Mutable\n"
      ],
      "metadata": {
        "id": "aG2axxPQgiqB"
      }
    },
    {
      "cell_type": "code",
      "source": [
        "lst = [1, 2, 3, 4, 1]"
      ],
      "metadata": {
        "id": "SVDU4-Qvg82_"
      },
      "execution_count": null,
      "outputs": []
    },
    {
      "cell_type": "code",
      "source": [
        "lst"
      ],
      "metadata": {
        "id": "g4tVwbQyhY0S"
      },
      "execution_count": null,
      "outputs": []
    },
    {
      "cell_type": "markdown",
      "source": [
        "**Creating a Set**\n",
        "\n",
        "- set()\n",
        "- set(iterable)\n"
      ],
      "metadata": {
        "id": "x_D5lv_KhpXh"
      }
    },
    {
      "cell_type": "code",
      "source": [
        "# empty set "
      ],
      "metadata": {
        "id": "jCBfFwsqhwFb"
      },
      "execution_count": null,
      "outputs": []
    },
    {
      "cell_type": "code",
      "source": [
        "s = {}\n",
        "print(s)\n",
        "type(s)"
      ],
      "metadata": {
        "id": "7YWvbfdFiASt"
      },
      "execution_count": null,
      "outputs": []
    },
    {
      "cell_type": "code",
      "source": [
        "s = set()\n",
        "# s = set({1, 2, 3, 3 , 2})\n",
        "print(s)\n",
        "type(s)"
      ],
      "metadata": {
        "id": "8WZe_YaciImU"
      },
      "execution_count": null,
      "outputs": []
    },
    {
      "cell_type": "code",
      "source": [
        "# non empty set "
      ],
      "metadata": {
        "id": "vcw1J1vaiO3_"
      },
      "execution_count": null,
      "outputs": []
    },
    {
      "cell_type": "code",
      "source": [
        "s = {1, 2, 3, 4, 5, 1, 3, 2, 4}\n",
        "\n",
        "print(s)"
      ],
      "metadata": {
        "id": "ZJIR6m8eiSK8"
      },
      "execution_count": null,
      "outputs": []
    },
    {
      "cell_type": "code",
      "source": [
        "s = set(\"Mihir\")\n",
        "print(s)"
      ],
      "metadata": {
        "id": "rPXkb1E8ia7P"
      },
      "execution_count": null,
      "outputs": []
    },
    {
      "cell_type": "markdown",
      "source": [
        "**Iteration**"
      ],
      "metadata": {
        "id": "y7ZxGmuTjckx"
      }
    },
    {
      "cell_type": "code",
      "source": [
        "s = set(\"Mihir\")\n",
        "print(s)\n",
        "type(s)"
      ],
      "metadata": {
        "id": "V5LChthdhwj4"
      },
      "execution_count": null,
      "outputs": []
    },
    {
      "cell_type": "code",
      "source": [
        "for i in s:\n",
        "    print(i)"
      ],
      "metadata": {
        "id": "qXN15okJjsoy"
      },
      "execution_count": null,
      "outputs": []
    },
    {
      "cell_type": "markdown",
      "source": [
        "**Update & Delete Operations**\n",
        "\n",
        "- add() : For single element\n",
        "- update() - (iterable)"
      ],
      "metadata": {
        "id": "fQ7JT0PCkInK"
      }
    },
    {
      "cell_type": "code",
      "source": [
        "s = {1, 2, 3, 4, 5, 6}\n",
        "\n",
        "print(s)"
      ],
      "metadata": {
        "id": "yk5LFiRMhwoQ"
      },
      "execution_count": null,
      "outputs": []
    },
    {
      "cell_type": "code",
      "source": [
        "s.add(7)\n",
        "s.add(8)\n",
        "s.add(9)\n",
        "s.add(10)\n"
      ],
      "metadata": {
        "id": "W4fF4-arnu9w"
      },
      "execution_count": null,
      "outputs": []
    },
    {
      "cell_type": "code",
      "source": [
        "print(s)"
      ],
      "metadata": {
        "id": "CEQjoBnbnvLJ"
      },
      "execution_count": null,
      "outputs": []
    },
    {
      "cell_type": "code",
      "source": [
        "# Update "
      ],
      "metadata": {
        "id": "1V5Qkp8ZoFki"
      },
      "execution_count": null,
      "outputs": []
    },
    {
      "cell_type": "code",
      "source": [
        "s"
      ],
      "metadata": {
        "id": "zk_C7ar8oH1o"
      },
      "execution_count": null,
      "outputs": []
    },
    {
      "cell_type": "code",
      "source": [
        "name = \"Mihir\""
      ],
      "metadata": {
        "id": "9FI-iJJcoJjD"
      },
      "execution_count": null,
      "outputs": []
    },
    {
      "cell_type": "code",
      "source": [
        "s.update(name)"
      ],
      "metadata": {
        "id": "g_xNt-dSoMJL"
      },
      "execution_count": null,
      "outputs": []
    },
    {
      "cell_type": "code",
      "source": [
        "print(s)"
      ],
      "metadata": {
        "id": "vADysGZcpBmr"
      },
      "execution_count": null,
      "outputs": []
    },
    {
      "cell_type": "markdown",
      "source": [
        "**Deleting an element**\n",
        "\n",
        "- pop() : remove random element, we are not sure what it is\n",
        "- remove(element) : remove partcular element "
      ],
      "metadata": {
        "id": "akOuwSs_pIx4"
      }
    },
    {
      "cell_type": "code",
      "source": [
        "print(s)"
      ],
      "metadata": {
        "id": "dZAcpzhrpfba"
      },
      "execution_count": null,
      "outputs": []
    },
    {
      "cell_type": "code",
      "source": [
        "s.pop()"
      ],
      "metadata": {
        "id": "G0pFaaRWrHk5"
      },
      "execution_count": null,
      "outputs": []
    },
    {
      "cell_type": "code",
      "source": [
        "print(s)"
      ],
      "metadata": {
        "id": "4DmMyzGjrMWh"
      },
      "execution_count": null,
      "outputs": []
    },
    {
      "cell_type": "code",
      "source": [
        "s.remove('M')"
      ],
      "metadata": {
        "id": "Jjzz0ztMrdOY"
      },
      "execution_count": null,
      "outputs": []
    },
    {
      "cell_type": "code",
      "source": [
        "print(s)"
      ],
      "metadata": {
        "id": "gesrBng_rdem"
      },
      "execution_count": null,
      "outputs": []
    },
    {
      "cell_type": "code",
      "source": [
        "a = s.pop()"
      ],
      "metadata": {
        "id": "AD648gJSr_6e"
      },
      "execution_count": null,
      "outputs": []
    },
    {
      "cell_type": "code",
      "source": [
        "print(a)"
      ],
      "metadata": {
        "id": "fzYdmf1YsDQ-"
      },
      "execution_count": null,
      "outputs": []
    },
    {
      "cell_type": "code",
      "source": [
        "print(s)"
      ],
      "metadata": {
        "id": "4TCLV9QSsGw_"
      },
      "execution_count": null,
      "outputs": []
    },
    {
      "cell_type": "markdown",
      "source": [
        "**Intersection**\n",
        "\n",
        "- Suppose Scaler has two courses available for students: Python and Java\n",
        "- You want to find out which students are enrolled in both the Python and Java courses. Then you can use the **Intersection** method."
      ],
      "metadata": {
        "id": "7ATuUB7ysU7F"
      }
    },
    {
      "cell_type": "code",
      "source": [
        "# We are taking names instead of unique IDs for ease of understanding "
      ],
      "metadata": {
        "id": "QO0p-YHhtDZD"
      },
      "execution_count": null,
      "outputs": []
    },
    {
      "cell_type": "code",
      "source": [
        "python = {\"Lisa\", \"Peter\", \"Devid\", \"Emma\", \"Anna\", \"Kevin\"}\n",
        "java = {\"Anna\", \"Kevin\", \"Kavindya\", \"Nishani\", \"Lisa\", \"Devid\"}"
      ],
      "metadata": {
        "id": "ORdBdhKntQ-g"
      },
      "execution_count": null,
      "outputs": []
    },
    {
      "cell_type": "code",
      "source": [
        "python.intersection(java)"
      ],
      "metadata": {
        "id": "J-Z5R6TMsYwQ"
      },
      "execution_count": null,
      "outputs": []
    },
    {
      "cell_type": "code",
      "source": [
        "java.intersection(python)"
      ],
      "metadata": {
        "id": "BJt80Gf6uXom"
      },
      "execution_count": null,
      "outputs": []
    },
    {
      "cell_type": "markdown",
      "source": [
        "**Union**\n",
        "\n",
        "- Suppose you want to find out which students are enrolled in either the Python or the Java course or in both. \n",
        "- Then you can use the **union()** method.\n"
      ],
      "metadata": {
        "id": "YChawbphul9-"
      }
    },
    {
      "cell_type": "code",
      "source": [
        "python = {\"Lisa\", \"Peter\", \"Devid\", \"Emma\", \"Anna\", \"Kevin\", \"Elisa\"}\n",
        "java = {\"Anna\", \"Kevin\", \"Kavindya\", \"Nishani\", \"Lisa\", \"Devid\", \"Alen\"}"
      ],
      "metadata": {
        "id": "-uZp8H2KsY8V"
      },
      "execution_count": null,
      "outputs": []
    },
    {
      "cell_type": "code",
      "source": [
        "python.union(java)"
      ],
      "metadata": {
        "id": "1Q2vaCwbvSn-"
      },
      "execution_count": null,
      "outputs": []
    },
    {
      "cell_type": "markdown",
      "source": [
        "**Defference**\n",
        "\n",
        "- Suppose you want to find out the set of students who have enrolled in the Python course but not in Java course or Vice-versa.\n",
        "- Then we can use the **difference()** method."
      ],
      "metadata": {
        "id": "HYEazhT5v4cq"
      }
    },
    {
      "cell_type": "code",
      "source": [
        "python = {\"Lisa\", \"Peter\", \"Devid\", \"Emma\", \"Anna\", \"Kevin\", \"Elisa\"}\n",
        "java = {\"Anna\", \"Kevin\", \"Kavindya\", \"Nishani\", \"Lisa\", \"Devid\", \"Alen\"}"
      ],
      "metadata": {
        "id": "jCvI7jPFwZ-P"
      },
      "execution_count": null,
      "outputs": []
    },
    {
      "cell_type": "code",
      "source": [
        "python.difference(java)"
      ],
      "metadata": {
        "id": "W89G741wvSrx"
      },
      "execution_count": null,
      "outputs": []
    },
    {
      "cell_type": "code",
      "source": [
        "java.difference(python)"
      ],
      "metadata": {
        "id": "n52DhfCvw7OY"
      },
      "execution_count": null,
      "outputs": []
    },
    {
      "cell_type": "markdown",
      "source": [
        "**Challenge : Find Unique Words**\n",
        "\n",
        "- count number of unique elements in a sentence\n",
        "\n",
        "- sent = \"be the change you wish to see in the world\"\n"
      ],
      "metadata": {
        "id": "smRvPGcRxJN3"
      }
    },
    {
      "cell_type": "code",
      "source": [
        "sent = \"be the change you wish to see in the world\"\n",
        "\n",
        "# unique word list \n",
        "lst = sent.split()\n",
        "\n",
        "# convert into set \n",
        "s = set(lst)\n",
        "\n",
        "print(len(s))"
      ],
      "metadata": {
        "id": "083DuP2vxslC"
      },
      "execution_count": null,
      "outputs": []
    },
    {
      "cell_type": "markdown",
      "source": [
        "## **13. Functions**"
      ],
      "metadata": {
        "id": "jQ75PQdR4wiX"
      }
    },
    {
      "cell_type": "markdown",
      "source": [
        "▶ **Functions Introduction**\n",
        "\n",
        "Function is a User Defined piece of code. It works only when it's called by User. It helps in Reusability of code and helps in reducing errors in your code. Examples: print, range, len etc.\n",
        "\n",
        "- Helps in reusability of code\n",
        "- Make code manageable and organized\n",
        "\n",
        "⚫ **Functions are two types in Python:**\n",
        "\n",
        "  - User Defined Functions\n",
        "  - Built-in Functions\n",
        "\n"
      ],
      "metadata": {
        "id": "-xM51obY48OF"
      }
    },
    {
      "cell_type": "code",
      "source": [
        "def myfunc():\n",
        "    pass"
      ],
      "metadata": {
        "id": "CQ9sChOH8mJW"
      },
      "execution_count": null,
      "outputs": []
    },
    {
      "cell_type": "markdown",
      "source": [
        "▶ **Defining a Function**"
      ],
      "metadata": {
        "id": "iS9Ujd_m5ClF"
      }
    },
    {
      "cell_type": "code",
      "source": [
        "# defining a function\n",
        "\n",
        "def greet():\n",
        "    # this is the body of the function\n",
        "    print(\"Hi, Hava a good day!!\")\n",
        "\n",
        "\n",
        "# call the function\n",
        "greet()"
      ],
      "metadata": {
        "id": "MOxHV1ytdpbI"
      },
      "execution_count": null,
      "outputs": []
    },
    {
      "cell_type": "markdown",
      "source": [
        "▶ **Docstrings**"
      ],
      "metadata": {
        "id": "70rKcTCa5F3u"
      }
    },
    {
      "cell_type": "code",
      "source": [
        "def greet():\n",
        "    \"\"\"\n",
        "    This function greets everyone when it's called.\n",
        "    \"\"\"\n",
        "    print(\"Hi, Hava a good day!!\")\n",
        "\n",
        "greet()"
      ],
      "metadata": {
        "id": "EUCZncmAeswU"
      },
      "execution_count": null,
      "outputs": []
    },
    {
      "cell_type": "code",
      "source": [
        "greet?"
      ],
      "metadata": {
        "id": "BCgzx4UGfJrt"
      },
      "execution_count": null,
      "outputs": []
    },
    {
      "cell_type": "markdown",
      "source": [
        "▶ **Parameter & Arguments**\n",
        "\n",
        "- These are place holders in the function\n",
        "- When defining them we call them as **Parameters**\n",
        "- When passing the actual value we call them as **Arguments**"
      ],
      "metadata": {
        "id": "KwsN6lO-5I8W"
      }
    },
    {
      "cell_type": "code",
      "source": [
        "def greet(name):\n",
        "    print(\"Hi, how are you ?\", name)\n",
        "\n",
        "greet(\"Mihir\") # arguments \n",
        "greet(\"Emma\")\n",
        "greet(\"Lisa\")\n",
        "\n",
        "# name is the parameter and names value are the arguments"
      ],
      "metadata": {
        "id": "VV-90UmdfgOt"
      },
      "execution_count": null,
      "outputs": []
    },
    {
      "cell_type": "code",
      "source": [
        "def add(a, b):\n",
        "    c = a + b\n",
        "    print(c)\n",
        "    # print(a, b)\n",
        "\n",
        "add(4, 6)"
      ],
      "metadata": {
        "id": "YhZZmKjghA1Q"
      },
      "execution_count": null,
      "outputs": []
    },
    {
      "cell_type": "markdown",
      "source": [
        "▶ **Return**\n",
        "\n",
        "- A function call ends when return statement is executed\n",
        "- It returns the expression back to the function\n",
        "- The code after return statement are not executed \n",
        "- If there is not return value then function returns None\n"
      ],
      "metadata": {
        "id": "jBQHa9XM5Nqn"
      }
    },
    {
      "cell_type": "code",
      "source": [
        "def add(a, b):\n",
        "    c = a + b\n",
        "    print(c)\n",
        "\n",
        "add(3, 6)"
      ],
      "metadata": {
        "id": "kirnNA99h2CT"
      },
      "execution_count": null,
      "outputs": []
    },
    {
      "cell_type": "code",
      "source": [
        "a = add(3, 5)"
      ],
      "metadata": {
        "id": "ZP7OI80Iibqu"
      },
      "execution_count": null,
      "outputs": []
    },
    {
      "cell_type": "code",
      "source": [
        "a"
      ],
      "metadata": {
        "id": "DICjDuPDiog0"
      },
      "execution_count": null,
      "outputs": []
    },
    {
      "cell_type": "code",
      "source": [
        "type(a)"
      ],
      "metadata": {
        "id": "hycAtwW7iX9w"
      },
      "execution_count": null,
      "outputs": []
    },
    {
      "cell_type": "code",
      "source": [
        "def add(a, b):\n",
        "    c = a + b\n",
        "    return c\n",
        "\n",
        "d = add(10, 20)\n",
        "print(d)\n",
        "print(type(d))"
      ],
      "metadata": {
        "id": "LSTrfL9Pil8E"
      },
      "execution_count": null,
      "outputs": []
    },
    {
      "cell_type": "code",
      "source": [
        "# if no return object then it returns Nonetype\n",
        "\n",
        "def func():\n",
        "    return\n",
        "\n",
        "a = func()\n",
        "print(a, type(a))"
      ],
      "metadata": {
        "id": "Zl8TwyAwhTq-"
      },
      "execution_count": null,
      "outputs": []
    },
    {
      "cell_type": "code",
      "source": [
        "# code after return statement doesn't get executed \n",
        "\n",
        "def myfun():\n",
        "    print(\"Before the return\")\n",
        "    return \"Mihir Chakma\"\n",
        "    print(\"After the return\")\n",
        "\n",
        "myfun()"
      ],
      "metadata": {
        "id": "oDeod0zSjiKe"
      },
      "execution_count": null,
      "outputs": []
    },
    {
      "cell_type": "code",
      "source": [
        "a = myfun()"
      ],
      "metadata": {
        "id": "Jtjamto4khMw"
      },
      "execution_count": null,
      "outputs": []
    },
    {
      "cell_type": "code",
      "source": [
        "print(a)"
      ],
      "metadata": {
        "id": "HjuU6xDmkpJ5"
      },
      "execution_count": null,
      "outputs": []
    },
    {
      "cell_type": "markdown",
      "source": [
        "▶ **Returning Multiple Values**"
      ],
      "metadata": {
        "id": "OEya-Fwp5QBv"
      }
    },
    {
      "cell_type": "code",
      "source": [
        "def intro(name, age, hobby):\n",
        "    return name, age, hobby\n",
        "\n",
        "a, b, c = intro(\"Mihir\", 25, \"Singing\")\n",
        "print(a, b, c)"
      ],
      "metadata": {
        "id": "ajZ2chTzk2Ve"
      },
      "execution_count": null,
      "outputs": []
    },
    {
      "cell_type": "code",
      "source": [
        "c = intro(\"Mihir\", 25, \"Singing\")\n",
        "\n",
        "print(c , type(c))"
      ],
      "metadata": {
        "id": "1_9lgExek4Mh"
      },
      "execution_count": null,
      "outputs": []
    },
    {
      "cell_type": "markdown",
      "source": [
        "▶ **Scope of a Variable**\n",
        "\n",
        "- There are two scope of a Variable : Global and Local\n",
        "- Global Variable can be used anywhere in a program\n",
        "- Local Variable can only used locally inside a program (function) "
      ],
      "metadata": {
        "id": "c3iyy89X5UK3"
      }
    },
    {
      "cell_type": "code",
      "source": [
        "# Global variable\n",
        "# a can be used anywhere in the program\n",
        "a = 10\n",
        "\n",
        "def myfun():\n",
        "    print(a)\n",
        "\n",
        "myfun()\n",
        "print(a)"
      ],
      "metadata": {
        "id": "0wkMQGP6oRxF"
      },
      "execution_count": null,
      "outputs": []
    },
    {
      "cell_type": "code",
      "source": [
        "# local variable \n",
        "b = 5\n",
        "\n",
        "def myfun():\n",
        "    # x is a local variable to this function \n",
        "    x = 10\n",
        "    print(x)\n",
        "\n",
        "myfun()\n",
        "print(b)\n",
        "# print(x) # error "
      ],
      "metadata": {
        "id": "jKAc2edUqQFO"
      },
      "execution_count": null,
      "outputs": []
    },
    {
      "cell_type": "code",
      "source": [
        "# global and local variables together \n",
        "\n",
        "a = 5\n",
        "\n",
        "def addme():\n",
        "    a = 20\n",
        "    print(a)\n",
        "\n",
        "fun()\n",
        "print(a)"
      ],
      "metadata": {
        "id": "b9N27E8CrSEX"
      },
      "execution_count": null,
      "outputs": []
    },
    {
      "cell_type": "code",
      "source": [
        "# change global value \n",
        "\n",
        "a = 5\n",
        "\n",
        "def func():\n",
        "    global a\n",
        "    a = 40\n",
        "    print(a)\n",
        "\n",
        "print(a)\n",
        "func()\n",
        "print(a)"
      ],
      "metadata": {
        "id": "62wf9s9yrzOH"
      },
      "execution_count": null,
      "outputs": []
    },
    {
      "cell_type": "markdown",
      "source": [
        "▶ **Lambda Function**\n",
        "\n",
        "- There are mainly used when we need nameless functions for short period of time\n"
      ],
      "metadata": {
        "id": "ggmMNJba5Yuu"
      }
    },
    {
      "cell_type": "markdown",
      "source": [
        "Syntax:\n",
        "\n",
        "> lambda arguments : expression"
      ],
      "metadata": {
        "id": "GR3_2H3kehQ4"
      }
    },
    {
      "cell_type": "code",
      "source": [
        "def add(a, b):\n",
        "    return a + b\n",
        "\n",
        "add(4, 6)"
      ],
      "metadata": {
        "id": "8XkVnSbIoSgM"
      },
      "execution_count": null,
      "outputs": []
    },
    {
      "cell_type": "code",
      "source": [
        "(lambda a, b : a + b) (5, 10)"
      ],
      "metadata": {
        "id": "P5sh1VV7s3G9"
      },
      "execution_count": null,
      "outputs": []
    },
    {
      "cell_type": "code",
      "source": [
        "func = lambda a, b : a * b\n",
        "\n",
        "# func = 10 * 5\n",
        "\n",
        "print(func)\n",
        "print(func(20, 2))\n",
        "print(func(20, 3))"
      ],
      "metadata": {
        "id": "ph0wFZodfkZB"
      },
      "execution_count": null,
      "outputs": []
    },
    {
      "cell_type": "code",
      "source": [
        "def larger(a, b):\n",
        "    if a > b:\n",
        "        return a\n",
        "    else:\n",
        "        return b\n",
        "\n",
        "print(larger(45, 5))\n",
        "print(larger(30, 80))"
      ],
      "metadata": {
        "id": "eWXZQ5KNgi2i"
      },
      "execution_count": null,
      "outputs": []
    },
    {
      "cell_type": "code",
      "source": [
        "(lambda x , y : x if x > y else y) (40, 20)"
      ],
      "metadata": {
        "id": "WkDcLugpiN0_"
      },
      "execution_count": null,
      "outputs": []
    },
    {
      "cell_type": "code",
      "source": [
        "# using lambda function\n",
        "large = lambda a , b : a if a > b else b\n",
        "\n",
        "print(large(10, 20))"
      ],
      "metadata": {
        "id": "-MDqFJcjhQh7"
      },
      "execution_count": null,
      "outputs": []
    },
    {
      "cell_type": "code",
      "source": [
        "# tuples in list\n",
        "\n",
        "lst = [(12, 45), (3, 6), (10, 8)]\n",
        "\n",
        "lst.sort()\n",
        "\n",
        "print(lst)"
      ],
      "metadata": {
        "id": "GqhjXcsLiC8y"
      },
      "execution_count": null,
      "outputs": []
    },
    {
      "cell_type": "code",
      "source": [
        "lst = [(12, 45), (5, 3), (8, 2), (65, 30)]\n",
        "\n",
        "def k(x):\n",
        "    return x[1]\n",
        "\n",
        "lst.sort(key = k)\n",
        "\n",
        "print(lst)"
      ],
      "metadata": {
        "id": "dCYkl0PAi83J"
      },
      "execution_count": null,
      "outputs": []
    },
    {
      "cell_type": "code",
      "source": [
        "# using lambda function \n",
        "\n",
        "lst = [(12, 45), (5, 3), (8, 2), (65, 30)]\n",
        "\n",
        "lst.sort(key = lambda x : x[1])\n",
        "\n",
        "print(lst)"
      ],
      "metadata": {
        "id": "hu0ZnTuFi9C2"
      },
      "execution_count": null,
      "outputs": []
    },
    {
      "cell_type": "markdown",
      "source": [
        "▶ **Challenge : Print Even Numbers**"
      ],
      "metadata": {
        "id": "u5RIp7vX5c4I"
      }
    },
    {
      "cell_type": "markdown",
      "source": [
        "Write a Python function to print the even numbers from a given list\n",
        "\n",
        "- input = [1, 2, 4, 3, 5, 6]\n",
        "- output = 2 4 6\n"
      ],
      "metadata": {
        "id": "rSaVxmq2lL5b"
      }
    },
    {
      "cell_type": "code",
      "source": [
        "def even(item):\n",
        "    # iterate on the list item \n",
        "    for i in item:\n",
        "        # check for even elements \n",
        "        if i % 2 == 0:\n",
        "            print(i, end=\" \")\n",
        "\n",
        "lst = [1, 2, 4, 3, 5, 6, 7]\n",
        "\n",
        "even(lst)\n",
        "    "
      ],
      "metadata": {
        "id": "8RQ2Xo-5m0Q7"
      },
      "execution_count": null,
      "outputs": []
    },
    {
      "cell_type": "markdown",
      "source": [
        "▶ **Challenge : Return List with Unique Numbers**"
      ],
      "metadata": {
        "id": "tAikQ4on5iAR"
      }
    },
    {
      "cell_type": "markdown",
      "source": [
        "Write a Python function that takes a list and returns a new list with unique elements of the first list \n",
        "\n",
        "- input = [1, 2, 3, 1, 2, 4]\n",
        "- output = [1, 2, 3, 4]\n"
      ],
      "metadata": {
        "id": "JNIP6gUrsUwG"
      }
    },
    {
      "cell_type": "code",
      "source": [
        "lists = [1, 2, 3, 1, 2, 4]\n",
        "\n",
        "# new = [] \n",
        "\n",
        "def unique(l):\n",
        "\n",
        "    new = []\n",
        "\n",
        "    # iterate on the l list \n",
        "    for i in l:\n",
        "        # we are adding only unique elements in new list \n",
        "        if i not in new:\n",
        "            new.append(i)\n",
        "    \n",
        "    # return new list \n",
        "    return new\n",
        "\n",
        "unique(lists)\n"
      ],
      "metadata": {
        "id": "6UvNdcO4s0Sg"
      },
      "execution_count": null,
      "outputs": []
    },
    {
      "cell_type": "code",
      "source": [
        "lst = [1, 2, 3, 4]\n",
        "\n",
        "12 not in lst"
      ],
      "metadata": {
        "id": "4ppG9KQfxyNe"
      },
      "execution_count": null,
      "outputs": []
    },
    {
      "cell_type": "markdown",
      "source": [
        "▶ **Arguments vs Parameters in Functions**\n",
        "\n",
        "- Parameters : The value we pass while defining a function\n",
        "- Arguments : The actual value of we pass when calling a function\n"
      ],
      "metadata": {
        "id": "AhKhfL0c5rqp"
      }
    },
    {
      "cell_type": "code",
      "source": [
        "# This \"name\" variable is known as parameter \n",
        "\n",
        "def func(name):\n",
        "    print(\"Hi, my name is\", name)\n",
        "\n",
        "\n",
        "# calling the function\n",
        "# in the function value is know as argument\n",
        "\n",
        "func(\"Mihir Chakma\")"
      ],
      "metadata": {
        "id": "wjM1FS6XyKfe"
      },
      "execution_count": null,
      "outputs": []
    },
    {
      "cell_type": "markdown",
      "source": [
        "▶ **Positional Arguments**\n",
        "\n",
        "- The value you pass when calling a function are matched according to their positions \n"
      ],
      "metadata": {
        "id": "JTBfIxTL5yGR"
      }
    },
    {
      "cell_type": "code",
      "source": [
        "def intro(name, age):\n",
        "    print(f\"My name is {name}.\")\n",
        "    print(f\"I'm {age} years old.\")\n",
        "\n",
        "intro(\"Advaith\", 25)\n",
        "intro(\"Mihir\", 26)"
      ],
      "metadata": {
        "id": "YzFt4Gvu06bq"
      },
      "execution_count": null,
      "outputs": []
    },
    {
      "cell_type": "markdown",
      "source": [
        "▶ **Default Arguments**\n",
        "\n",
        "- Giving default values to the parameters \n",
        "- For these parameters passing value in arguments is optional\n"
      ],
      "metadata": {
        "id": "4JQEdEvV520Y"
      }
    },
    {
      "cell_type": "code",
      "source": [
        "def intro(name, hobby = \"Reading\"):\n",
        "    print(f\"My name is {name}.\")\n",
        "    print(f\"My hobby is {hobby}.\")\n",
        "\n",
        "\n",
        "intro(\"Mihir\")\n",
        "\n",
        "intro(\"Advaith\", \"Drawing\")"
      ],
      "metadata": {
        "id": "QG1dNv1z2UeK"
      },
      "execution_count": null,
      "outputs": []
    },
    {
      "cell_type": "markdown",
      "source": [
        "▶ **Default follows non-default**"
      ],
      "metadata": {
        "id": "ErPzNnwJ56Fu"
      }
    },
    {
      "cell_type": "code",
      "source": [
        "def profile(name, age = 25, hobby):\n",
        "    print(\"Name : \", name)\n",
        "    print(\"Age : \", age)\n",
        "    print(\"Hobby : \", hobby)"
      ],
      "metadata": {
        "id": "LodqyPNo3A6i"
      },
      "execution_count": null,
      "outputs": []
    },
    {
      "cell_type": "code",
      "source": [
        "def profile(name, age = 25, hobby = \"Driving\"):\n",
        "    print(\"Name : \", name)\n",
        "    print(\"Age : \", age)\n",
        "    print(\"Hobby : \", hobby)\n",
        "\n",
        "profile(\"Mihir\")"
      ],
      "metadata": {
        "id": "RUPG7-3G3xtG"
      },
      "execution_count": null,
      "outputs": []
    },
    {
      "cell_type": "markdown",
      "source": [
        "▶ **Arbitrary Arguments**\n",
        "\n",
        "- When number of values you want to pass is not known\n",
        "- Like we pass multiple values in print function\n",
        "- The values are being stored in tuple\n"
      ],
      "metadata": {
        "id": "kCeTjPfA5_9Y"
      }
    },
    {
      "cell_type": "code",
      "source": [
        "def test(*args):\n",
        "    print(args)\n",
        "    print(type(args))\n",
        "\n",
        "    # iterate and print\n",
        "    for i in args:\n",
        "        print(i, end=\" \")\n",
        "\n",
        "\n",
        "test(1, 2, 3, 4, 5, 6)"
      ],
      "metadata": {
        "id": "5V1RUntFbsb_"
      },
      "execution_count": null,
      "outputs": []
    },
    {
      "cell_type": "markdown",
      "source": [
        "**Keyword Arguments**\n",
        "\n",
        "- Variable number of keyword arguments\n",
        "- It stores the data in Dictionary format\n",
        "\n"
      ],
      "metadata": {
        "id": "Z8AzjZwL6ELO"
      }
    },
    {
      "cell_type": "code",
      "source": [
        "def intro( **kwargs):\n",
        "    # print(kwargs)\n",
        "    # print(type(kwargs))\n",
        "\n",
        "    for key, value in kwargs.items():\n",
        "        print(key, value, sep=\" : \")\n",
        "\n",
        "\n",
        "intro(name = \"Advaith\", age = 25, hobbies = [\"Drawing, Swimming\", \"Read\"])"
      ],
      "metadata": {
        "id": "NOHg-1piwRUW"
      },
      "execution_count": null,
      "outputs": []
    },
    {
      "cell_type": "code",
      "source": [
        "def mix(a, b, c, age = 25, *args, **kwargs):\n",
        "    print(a, b, c)\n",
        "    print(age)\n",
        "    print(args)\n",
        "    print(kwargs)\n",
        "\n",
        "\n",
        "mix(5, 6, 7, 30, 10, 20, 30, 40, name = 'Advaith', hobby = 'Coding')"
      ],
      "metadata": {
        "id": "kshkcooEwSsl"
      },
      "execution_count": null,
      "outputs": []
    },
    {
      "cell_type": "code",
      "source": [
        "# wrong way (error)\n",
        "\n",
        "# def myfunc(**kwargs, *args):\n",
        "#     print(kwargs)\n",
        "#     print(args)"
      ],
      "metadata": {
        "id": "si1oenpPxOc_"
      },
      "execution_count": null,
      "outputs": []
    },
    {
      "cell_type": "code",
      "source": [
        "# right way \n",
        "\n",
        "def myfunc(*args, **kwargs):\n",
        "    print(args)\n",
        "    print(kwargs)"
      ],
      "metadata": {
        "id": "7uEr65nuxmFe"
      },
      "execution_count": null,
      "outputs": []
    },
    {
      "cell_type": "markdown",
      "source": [
        "## **14. OOP in Python**"
      ],
      "metadata": {
        "id": "mqVBeS7l5J5_"
      }
    },
    {
      "cell_type": "markdown",
      "source": [
        "▶ **Introduction OOP in Python**\n",
        "\n",
        "- Object Oriented Programming\n",
        "- The principles of OOP are based on 4 pillars apart from Class and Objects\n",
        "- A Class has attributes and behaviour\n",
        "\n",
        "[Python OOP Concepts](https://www.edureka.co/blog/object-oriented-programming-python/)"
      ],
      "metadata": {
        "id": "Yo8kNOw55QnN"
      }
    },
    {
      "cell_type": "markdown",
      "source": [
        "◾**Abstraction** \n",
        "\n",
        "- Abstraction means displaying only essential information and hiding the details.\n",
        "- Example: Car will accelerate but internal working of engine not exposed\n",
        "\n",
        "\n",
        "◾ **Encapsulation**\n",
        "\n",
        "- Binding up of data in a single class (unit).\n",
        "- Binding of all methods that can act on an Object of that data\n",
        "- Car can have colors, brake, engine and a lot of other methods\n",
        "\n",
        "\n",
        "◾**Inheritance**\n",
        "\n",
        "- When a class derives from another class\n",
        "- Any new car company can inherit all the information from car class\n",
        "\n",
        "\n",
        "◾**Polymorphism**\n",
        "\n",
        "- The word \"Polymorphism\" means having many forms.\n",
        "- Same class method can work differently for different Objects\n"
      ],
      "metadata": {
        "id": "v70CEjjsQSvy"
      }
    },
    {
      "cell_type": "code",
      "source": [],
      "metadata": {
        "id": "iY01duEtUDrS"
      },
      "execution_count": null,
      "outputs": []
    },
    {
      "cell_type": "markdown",
      "source": [
        "▶ **Class & Object in Python**\n",
        "\n",
        "**Creating Classes**\n",
        "\n",
        "- It's a blueprint to create Objects\n",
        "- The **`class`** keyword is used to create classes\n",
        "- Generally in convention we start name with capital letter\n",
        "- Examples: int, float, string etc..\n"
      ],
      "metadata": {
        "id": "XQRKHJ5l5sl_"
      }
    },
    {
      "cell_type": "code",
      "source": [
        "class Car:\n",
        "    pass"
      ],
      "metadata": {
        "id": "I2R9PPGDVHZS"
      },
      "execution_count": null,
      "outputs": []
    },
    {
      "cell_type": "code",
      "source": [
        "class Human:\n",
        "    pass"
      ],
      "metadata": {
        "id": "2QiFjKtN8Q9m"
      },
      "execution_count": null,
      "outputs": []
    },
    {
      "cell_type": "markdown",
      "source": [
        "**Objects**\n",
        "\n",
        "- Objects are instances or entities of a class\n",
        "- It has all the properties of it's Class\n",
        "- eg: 1, 2 are Objects of int Class"
      ],
      "metadata": {
        "id": "iGq_P-vJV_bw"
      }
    },
    {
      "cell_type": "code",
      "source": [
        "# creating an object of Human class \n",
        "advaith = Human()"
      ],
      "metadata": {
        "id": "U72BJwNN8J9X"
      },
      "execution_count": null,
      "outputs": []
    },
    {
      "cell_type": "code",
      "source": [
        "# creating an object of Car class\n",
        "mazda = Car()"
      ],
      "metadata": {
        "id": "VhHNmDeUV-Tp"
      },
      "execution_count": null,
      "outputs": []
    },
    {
      "cell_type": "code",
      "source": [
        "type(mazda)"
      ],
      "metadata": {
        "id": "mLjpu3N3XEHL"
      },
      "execution_count": null,
      "outputs": []
    },
    {
      "cell_type": "code",
      "source": [
        "type(10)"
      ],
      "metadata": {
        "id": "N-_SvWyFXIjA"
      },
      "execution_count": null,
      "outputs": []
    },
    {
      "cell_type": "code",
      "source": [
        "type(\"Advaith\")"
      ],
      "metadata": {
        "id": "GxW2-NaDXKfw"
      },
      "execution_count": null,
      "outputs": []
    },
    {
      "cell_type": "markdown",
      "source": [
        "▶ **Class Constructor**\n",
        "\n",
        "- A constructor is a special method used to create and initialize an Object of a Class\n",
        "- This method is defined in the Class\n",
        "- The constructor is executed automatically at the time of Object creation\n"
      ],
      "metadata": {
        "id": "1ZcWn0lJ50TG"
      }
    },
    {
      "cell_type": "code",
      "source": [
        "class Human():\n",
        "    # i want some properties to be with every Human objects\n",
        "    # Dunder __ \n",
        "\n",
        "    # constructor \n",
        "    def __init__(self):\n",
        "        print(\"This will always execute.\")"
      ],
      "metadata": {
        "id": "yaWuiZdIT5I6"
      },
      "execution_count": null,
      "outputs": []
    },
    {
      "cell_type": "code",
      "source": [
        "advaith = Human()"
      ],
      "metadata": {
        "id": "2CGq0ss-VtVh"
      },
      "execution_count": null,
      "outputs": []
    },
    {
      "cell_type": "code",
      "source": [
        "mihir = Human()"
      ],
      "metadata": {
        "id": "0KRQOhlFVyIO"
      },
      "execution_count": null,
      "outputs": []
    },
    {
      "cell_type": "code",
      "source": [
        "print(advaith)"
      ],
      "metadata": {
        "id": "r05f1A9cV108"
      },
      "execution_count": null,
      "outputs": []
    },
    {
      "cell_type": "code",
      "source": [
        "type(advaith)"
      ],
      "metadata": {
        "id": "YZHu2AtGV5R4"
      },
      "execution_count": null,
      "outputs": []
    },
    {
      "cell_type": "code",
      "source": [
        "class Human():\n",
        "    def __init__(self, name, age, hobby):\n",
        "        self.name = name\n",
        "        self.age = age\n",
        "        self.hobby = hobby\n",
        "        "
      ],
      "metadata": {
        "id": "Ac4Qml7iV_R4"
      },
      "execution_count": null,
      "outputs": []
    },
    {
      "cell_type": "code",
      "source": [
        "advaith = Human(\"Advaith\", 25, \"Reading\")"
      ],
      "metadata": {
        "id": "FyAWtLyeWjEX"
      },
      "execution_count": null,
      "outputs": []
    },
    {
      "cell_type": "code",
      "source": [
        "mihir = Human(\"Mihir\", 25, \"Coding\")"
      ],
      "metadata": {
        "id": "s4IdIlnjWuUY"
      },
      "execution_count": null,
      "outputs": []
    },
    {
      "cell_type": "code",
      "source": [
        "print(advaith)"
      ],
      "metadata": {
        "id": "p8XQZyxbW10W"
      },
      "execution_count": null,
      "outputs": []
    },
    {
      "cell_type": "code",
      "source": [
        "advaith.name"
      ],
      "metadata": {
        "id": "zzHymNRkW8Fx"
      },
      "execution_count": null,
      "outputs": []
    },
    {
      "cell_type": "code",
      "source": [
        "mihir.name"
      ],
      "metadata": {
        "id": "3N4EC0U1XFbS"
      },
      "execution_count": null,
      "outputs": []
    },
    {
      "cell_type": "markdown",
      "source": [
        "▶ **Class Methods**\n",
        "\n",
        "- Apart from special methods you can make your custom methods\n",
        "- Example: Humans can speak, greet, play etc..\n"
      ],
      "metadata": {
        "id": "jIpM4YKP6Bz2"
      }
    },
    {
      "cell_type": "code",
      "source": [
        "class Human:\n",
        "\n",
        "    # constructor\n",
        "    def __init__(self, name, age, hobby) -> None:\n",
        "        # Thses are known as attributes of an object \n",
        "        self.name = name\n",
        "        self.age = age\n",
        "        self.hobby = hobby\n",
        "\n",
        "    # methods \n",
        "    def greet(self):\n",
        "        print(f\"Hi, My name is {self.name}. Good Morning!\")\n",
        "        print(f'I\\'m {self.age} years old.')\n",
        "\n",
        "\n",
        "\n",
        "# create an object and call the class \n",
        "advaith = Human(\"Advaith\", 25, \"Coding\")"
      ],
      "metadata": {
        "id": "1YPupOGmXjVA"
      },
      "execution_count": null,
      "outputs": []
    },
    {
      "cell_type": "code",
      "source": [
        "advaith.nationality = \"Canadian\""
      ],
      "metadata": {
        "id": "mBCjxsiE374W"
      },
      "execution_count": null,
      "outputs": []
    },
    {
      "cell_type": "code",
      "source": [
        "advaith.greet()"
      ],
      "metadata": {
        "id": "FDWN_WcD2154"
      },
      "execution_count": null,
      "outputs": []
    },
    {
      "cell_type": "code",
      "source": [
        "advaith.name"
      ],
      "metadata": {
        "id": "06396erW3Whe"
      },
      "execution_count": null,
      "outputs": []
    },
    {
      "cell_type": "code",
      "source": [
        "advaith.nationality"
      ],
      "metadata": {
        "id": "0njakmon4IyJ"
      },
      "execution_count": null,
      "outputs": []
    },
    {
      "cell_type": "code",
      "source": [
        "pawani = Human(\"Pawani\", 22, \"Cooking\")"
      ],
      "metadata": {
        "id": "d-8qssdy22Cm"
      },
      "execution_count": null,
      "outputs": []
    },
    {
      "cell_type": "code",
      "source": [
        "pawani.greet()"
      ],
      "metadata": {
        "id": "mUIWfX4M32x7"
      },
      "execution_count": null,
      "outputs": []
    },
    {
      "cell_type": "code",
      "source": [
        "# pawani.nationality # error "
      ],
      "metadata": {
        "id": "RbfqQjqP4_gG"
      },
      "execution_count": null,
      "outputs": []
    },
    {
      "cell_type": "code",
      "source": [
        "pawani.hobby = \"Social Services\""
      ],
      "metadata": {
        "id": "uuLZv7MM36WN"
      },
      "execution_count": null,
      "outputs": []
    },
    {
      "cell_type": "code",
      "source": [
        "pawani.hobby"
      ],
      "metadata": {
        "id": "g0x3oVKx4gqR"
      },
      "execution_count": null,
      "outputs": []
    },
    {
      "cell_type": "code",
      "source": [
        "advaith.hobby"
      ],
      "metadata": {
        "id": "vbzr9HTn4n_l"
      },
      "execution_count": null,
      "outputs": []
    },
    {
      "cell_type": "markdown",
      "source": [
        "▶ **Class Variables**\n",
        "\n",
        "- Thses are common to the class\n",
        "- Example\" Population of Human class is common to all objects\n"
      ],
      "metadata": {
        "id": "eljK-apo6MF4"
      }
    },
    {
      "cell_type": "code",
      "source": [
        "class Human:\n",
        "\n",
        "    # class variables \n",
        "    population = 0\n",
        "    data = []\n",
        "\n",
        "    # constructor \n",
        "    def __init__(self, name, age):\n",
        "        # Thsese are known as attributes of an object\n",
        "        self.name = name\n",
        "        self.age = age\n",
        "\n",
        "        # increment population for every new Human object\n",
        "        Human.population += 1\n",
        "        Human.data.append(self.name)\n",
        "\n",
        "\n",
        "    # methods \n",
        "    def greet(self):\n",
        "        print(f\"Hi, I'm {self.name}, Good Morning!!!\")"
      ],
      "metadata": {
        "id": "L6nn6i0M564H"
      },
      "execution_count": null,
      "outputs": []
    },
    {
      "cell_type": "code",
      "source": [
        "advaith = Human(\"Advaith\", 25)"
      ],
      "metadata": {
        "id": "-YBlZ2nv7jSh"
      },
      "execution_count": null,
      "outputs": []
    },
    {
      "cell_type": "code",
      "source": [
        "advaith.name"
      ],
      "metadata": {
        "id": "cNUgQBqc7v3q"
      },
      "execution_count": null,
      "outputs": []
    },
    {
      "cell_type": "code",
      "source": [
        "advaith.population"
      ],
      "metadata": {
        "id": "_qpbyRDr8st_"
      },
      "execution_count": null,
      "outputs": []
    },
    {
      "cell_type": "code",
      "source": [
        "Human.population"
      ],
      "metadata": {
        "id": "IPENYhFp7yny"
      },
      "execution_count": null,
      "outputs": []
    },
    {
      "cell_type": "code",
      "source": [
        "pawani = Human(\"Pawani\", 22)"
      ],
      "metadata": {
        "id": "MvbuGcaS8w9R"
      },
      "execution_count": null,
      "outputs": []
    },
    {
      "cell_type": "code",
      "source": [
        "Human.population"
      ],
      "metadata": {
        "id": "M5esx3e982mq"
      },
      "execution_count": null,
      "outputs": []
    },
    {
      "cell_type": "code",
      "source": [
        "Human.data"
      ],
      "metadata": {
        "id": "vxrkUwqdXkXn"
      },
      "execution_count": null,
      "outputs": []
    },
    {
      "cell_type": "markdown",
      "source": [
        "▶ **Adding more methods in Class**"
      ],
      "metadata": {
        "id": "e-BxJTq66Q1k"
      }
    },
    {
      "cell_type": "code",
      "source": [
        "class Human:\n",
        "\n",
        "    # class variable \n",
        "    population = 0\n",
        "    data = []\n",
        "\n",
        "    # constructor \n",
        "    def __init__(self, name, age, alive = True):\n",
        "        # Thsese are known as attributes of an object\n",
        "        self.name = name\n",
        "        self.age = age\n",
        "        self.alive = alive\n",
        "\n",
        "        # increment population for every new Human object\n",
        "        Human.population += 1\n",
        "        Human.data.append(self.name)\n",
        "\n",
        "\n",
        "    # methods \n",
        "    def greet(self):\n",
        "        print(f\"Hi, I'm {self.name}, Good Morning!!!\")\n",
        "\n",
        "\n",
        "    def dead(self):\n",
        "        if self.alive:\n",
        "            print(self.name, \"is no more now.\")\n",
        "            Human.population -= 1\n",
        "            self.alive = False\n",
        "        else:\n",
        "            print(\"This person is already dead.\")\n",
        "\n",
        "    \n",
        "    def child(self, number):\n",
        "        Human.population += number"
      ],
      "metadata": {
        "id": "NCnZYYoJ-WmY"
      },
      "execution_count": null,
      "outputs": []
    },
    {
      "cell_type": "code",
      "source": [
        "h1 = Human(\"H1\", 70)\n",
        "h2 = Human(\"H2\", 50)\n",
        "h3 = Human(\"H3\", 95)\n",
        "h4 = Human(\"H4\", 100)"
      ],
      "metadata": {
        "id": "MU9d2Dx--W2O"
      },
      "execution_count": null,
      "outputs": []
    },
    {
      "cell_type": "code",
      "source": [
        "Human.population"
      ],
      "metadata": {
        "id": "6bB340Wb_ZHP"
      },
      "execution_count": null,
      "outputs": []
    },
    {
      "cell_type": "code",
      "source": [
        "h1.dead()\n",
        "h4.dead()"
      ],
      "metadata": {
        "id": "5ZtZeFwD_dHO"
      },
      "execution_count": null,
      "outputs": []
    },
    {
      "cell_type": "code",
      "source": [
        "Human.population"
      ],
      "metadata": {
        "id": "7rHgBo9X_ZMO"
      },
      "execution_count": null,
      "outputs": []
    },
    {
      "cell_type": "code",
      "source": [
        "h5 = Human(\"Adam\", 28)"
      ],
      "metadata": {
        "id": "F98mPqhj_ZTJ"
      },
      "execution_count": null,
      "outputs": []
    },
    {
      "cell_type": "code",
      "source": [
        "Human.population"
      ],
      "metadata": {
        "id": "Q3HE8XBLC9Go"
      },
      "execution_count": null,
      "outputs": []
    },
    {
      "cell_type": "code",
      "source": [
        "h5.child(2)"
      ],
      "metadata": {
        "id": "Z5UsJmUzDCq_"
      },
      "execution_count": null,
      "outputs": []
    },
    {
      "cell_type": "code",
      "source": [
        "Human.population"
      ],
      "metadata": {
        "id": "1CuRFDtvC9NB"
      },
      "execution_count": null,
      "outputs": []
    },
    {
      "cell_type": "markdown",
      "source": [
        "▶ **Inheritance Introduction**\n",
        "\n",
        "- When a class derives every attributes and methods from other class\n",
        "- It gets access to all its methods and attributes\n",
        "- This helps in reusability of codes\n",
        "\n"
      ],
      "metadata": {
        "id": "aaDYiMek6Y5k"
      }
    },
    {
      "cell_type": "code",
      "source": [],
      "metadata": {
        "id": "nlEoIzeLdgKP"
      },
      "execution_count": null,
      "outputs": []
    },
    {
      "cell_type": "markdown",
      "source": [
        "▶ **Inheritance Code**"
      ],
      "metadata": {
        "id": "8CyjyQei6kAn"
      }
    },
    {
      "cell_type": "code",
      "source": [
        "class Human:\n",
        "\n",
        "    # class variable \n",
        "    population = 0\n",
        "    data = []\n",
        "\n",
        "    # constructor \n",
        "    def __init__(self, name, age, alive = True):\n",
        "        # Thsese are known as attributes of an object\n",
        "        self.name = name\n",
        "        self.age = age\n",
        "        self.alive = alive\n",
        "\n",
        "        # increment population for every new Human object\n",
        "        Human.population += 1\n",
        "        Human.data.append(self.name)\n",
        "\n",
        "\n",
        "    # methods \n",
        "    def greet(self):\n",
        "        print(f\"Hi, I'm {self.name}, Good Morning!!!\")\n",
        "\n",
        "\n",
        "    def dead(self):\n",
        "        if self.alive:\n",
        "            print(self.name, \"is no more now.\")\n",
        "            Human.population -= 1\n",
        "            self.alive = False\n",
        "        else:\n",
        "            print(\"This person is already dead.\")\n",
        "\n",
        "    \n",
        "    def child(self, number):\n",
        "        Human.population += number"
      ],
      "metadata": {
        "id": "IeTdVX__eZxv"
      },
      "execution_count": null,
      "outputs": []
    },
    {
      "cell_type": "code",
      "source": [
        "mihir = Human(\"Mihir\", 25)\n",
        "advaith = Human(\"Advaith\", 26)"
      ],
      "metadata": {
        "id": "1jt9OiL7eeY3"
      },
      "execution_count": null,
      "outputs": []
    },
    {
      "cell_type": "code",
      "source": [
        "Human.population"
      ],
      "metadata": {
        "id": "QFT4aRbWeegm"
      },
      "execution_count": null,
      "outputs": []
    },
    {
      "cell_type": "code",
      "source": [
        "# Inheritance "
      ],
      "metadata": {
        "id": "Mz0gow7Geem2"
      },
      "execution_count": null,
      "outputs": []
    },
    {
      "cell_type": "code",
      "source": [
        "class Employee(Human):\n",
        "    pass"
      ],
      "metadata": {
        "id": "7e7eOI8DfH0n"
      },
      "execution_count": null,
      "outputs": []
    },
    {
      "cell_type": "code",
      "source": [
        "emp1 = Employee(\"Mark\", 37)"
      ],
      "metadata": {
        "id": "6TlA9sHpfH8E"
      },
      "execution_count": null,
      "outputs": []
    },
    {
      "cell_type": "code",
      "source": [
        "emp1.greet()"
      ],
      "metadata": {
        "id": "pwL6hub2f8PE"
      },
      "execution_count": null,
      "outputs": []
    },
    {
      "cell_type": "code",
      "source": [
        "Human.population"
      ],
      "metadata": {
        "id": "Uoyzm9d-gGvi"
      },
      "execution_count": null,
      "outputs": []
    },
    {
      "cell_type": "code",
      "source": [
        "Human.data"
      ],
      "metadata": {
        "id": "Z08MC7C1gMyJ"
      },
      "execution_count": null,
      "outputs": []
    },
    {
      "cell_type": "code",
      "source": [
        "emp1.age"
      ],
      "metadata": {
        "id": "FUyQ3dv9fIMt"
      },
      "execution_count": null,
      "outputs": []
    },
    {
      "cell_type": "markdown",
      "source": [
        "▶ **Adding Attributes in Derived Class**"
      ],
      "metadata": {
        "id": "uDaSy-po6rzE"
      }
    },
    {
      "cell_type": "code",
      "source": [
        "class Human:\n",
        "\n",
        "    # class variable \n",
        "    population = 0\n",
        "    data = []\n",
        "\n",
        "    # constructor \n",
        "    def __init__(self, name, age, alive = True):\n",
        "        # Thsese are known as attributes of an object\n",
        "        self.name = name\n",
        "        self.age = age\n",
        "        self.alive = alive\n",
        "\n",
        "        # increment population for every new Human object\n",
        "        Human.population += 1\n",
        "        Human.data.append(self.name)\n",
        "\n",
        "\n",
        "    # methods \n",
        "    def greet(self):\n",
        "        print(f\"Hi, I'm {self.name}, Good Morning!!!\")\n",
        "\n",
        "\n",
        "    def dead(self):\n",
        "        if self.alive:\n",
        "            print(self.name, \"is no more now.\")\n",
        "            Human.population -= 1\n",
        "            self.alive = False\n",
        "        else:\n",
        "            print(\"This person is already dead.\")\n",
        "\n",
        "    \n",
        "    def child(self, number):\n",
        "        Human.population += number"
      ],
      "metadata": {
        "id": "JqLyC28Wg4wK"
      },
      "execution_count": null,
      "outputs": []
    },
    {
      "cell_type": "code",
      "source": [
        "# Inheritance:\n",
        "# Human is Base class\n",
        "# Employee is Derived class"
      ],
      "metadata": {
        "id": "KeGUsQgshA5X"
      },
      "execution_count": null,
      "outputs": []
    },
    {
      "cell_type": "code",
      "source": [
        "class Employee(Human):\n",
        "    # re-initiate constructor\n",
        "    def __init__(self, name, age, company, post):\n",
        "        super().__init__(name, age)\n",
        "\n",
        "        # attributes for employee class\n",
        "        self.company = company\n",
        "        self.post = post\n"
      ],
      "metadata": {
        "id": "r0NCTxFZhWza"
      },
      "execution_count": null,
      "outputs": []
    },
    {
      "cell_type": "code",
      "source": [
        "mihir = Human(\"Mihir\", 25)\n",
        "advaith = Human(\"Advaith\", 26)"
      ],
      "metadata": {
        "id": "7UDGTSs0g6dn"
      },
      "execution_count": null,
      "outputs": []
    },
    {
      "cell_type": "code",
      "source": [
        "Human.population"
      ],
      "metadata": {
        "id": "zSGdqkFvjRmj"
      },
      "execution_count": null,
      "outputs": []
    },
    {
      "cell_type": "code",
      "source": [
        "emma = Employee(\"Emma\", 24, \"Google\", \"Software Engineer\")"
      ],
      "metadata": {
        "id": "OeBuCV_BhNfJ"
      },
      "execution_count": null,
      "outputs": []
    },
    {
      "cell_type": "code",
      "source": [
        "Human.population"
      ],
      "metadata": {
        "id": "WucujVwqhNpm"
      },
      "execution_count": null,
      "outputs": []
    },
    {
      "cell_type": "code",
      "source": [
        "emma.greet()"
      ],
      "metadata": {
        "id": "EtduvSC-jn1l"
      },
      "execution_count": null,
      "outputs": []
    },
    {
      "cell_type": "code",
      "source": [
        "emma.company"
      ],
      "metadata": {
        "id": "gUbZGdRijy6h"
      },
      "execution_count": null,
      "outputs": []
    },
    {
      "cell_type": "code",
      "source": [
        "emma.post"
      ],
      "metadata": {
        "id": "RsezJNxPj3GC"
      },
      "execution_count": null,
      "outputs": []
    },
    {
      "cell_type": "code",
      "source": [],
      "metadata": {
        "id": "0_5ZjrOvhNwv"
      },
      "execution_count": null,
      "outputs": []
    },
    {
      "cell_type": "markdown",
      "source": [
        "▶ **Adding Methods in Derived Class**"
      ],
      "metadata": {
        "id": "Q6wcXYp16zUV"
      }
    },
    {
      "cell_type": "code",
      "source": [
        "class Human:\n",
        "\n",
        "    # class variable \n",
        "    population = 0\n",
        "    data = []\n",
        "\n",
        "    # constructor \n",
        "    def __init__(self, name, age, alive = True):\n",
        "        # Thsese are known as attributes of an object\n",
        "        self.name = name\n",
        "        self.age = age\n",
        "        self.alive = alive\n",
        "\n",
        "        # increment population for every new Human object\n",
        "        Human.population += 1\n",
        "        Human.data.append(self.name)\n",
        "\n",
        "\n",
        "    # methods \n",
        "    def greet(self):\n",
        "        print(f\"Hi, I'm {self.name}, Good Morning!!!\")\n",
        "\n",
        "\n",
        "    def dead(self):\n",
        "        if self.alive:\n",
        "            print(self.name, \"is no more now.\")\n",
        "            Human.population -= 1\n",
        "            self.alive = False\n",
        "        else:\n",
        "            print(\"This person is already dead.\")\n",
        "\n",
        "    \n",
        "    def child(self, number):\n",
        "        Human.population += number"
      ],
      "metadata": {
        "id": "dOBYQabvkBKZ"
      },
      "execution_count": null,
      "outputs": []
    },
    {
      "cell_type": "code",
      "source": [
        "# Inheritance:\n",
        "# Human is Base class\n",
        "# Employee is Derived class\n",
        "\n",
        "class Employee(Human):\n",
        "    # re-initiate constructor\n",
        "    def __init__(self, name, age, company, post):\n",
        "        super().__init__(name, age)\n",
        "\n",
        "        # attributes for employee class\n",
        "        self.company = company\n",
        "        self.post = post \n",
        "\n",
        "    # add some attributes\n",
        "    def hire(self, person):\n",
        "        print(f\"{person} has been hired in our company\")\n",
        "        Human.data.append(person)\n",
        "        Human.population += 1 \n"
      ],
      "metadata": {
        "id": "ZUgLOukekB_b"
      },
      "execution_count": null,
      "outputs": []
    },
    {
      "cell_type": "code",
      "source": [
        "# Human class instance objects \n",
        "mihir = Human(\"Mihir\", 25)\n",
        "advaith = Human(\"Advaith\", 26)"
      ],
      "metadata": {
        "id": "79a0tpLEkQoq"
      },
      "execution_count": null,
      "outputs": []
    },
    {
      "cell_type": "code",
      "source": [
        "# Employee class instance objects \n",
        "emma = Employee(\"Emma\", 24, \"Google\", \"Software Engineer\")\n",
        "pawani = Employee(\"Pawani\", 22, \"Facebook\", \"Data Analyst\")"
      ],
      "metadata": {
        "id": "gmR9SZJYkQvu"
      },
      "execution_count": null,
      "outputs": []
    },
    {
      "cell_type": "code",
      "source": [
        "pawani.greet()"
      ],
      "metadata": {
        "id": "zY00FCiUmdZr"
      },
      "execution_count": null,
      "outputs": []
    },
    {
      "cell_type": "code",
      "source": [
        "pawani.hire(\"Nisa\")"
      ],
      "metadata": {
        "id": "NXltvUuumkKr"
      },
      "execution_count": null,
      "outputs": []
    },
    {
      "cell_type": "code",
      "source": [
        "Human.data"
      ],
      "metadata": {
        "id": "r25tilYAkQ3W"
      },
      "execution_count": null,
      "outputs": []
    },
    {
      "cell_type": "code",
      "source": [
        "Human.population"
      ],
      "metadata": {
        "id": "mMq1Cf3LmTro"
      },
      "execution_count": null,
      "outputs": []
    },
    {
      "cell_type": "code",
      "source": [
        "emp1 = Employee(\"Employee1\", 34, \"Uber\", \"Web Developer\")"
      ],
      "metadata": {
        "id": "-lxo5Kqbn18Q"
      },
      "execution_count": null,
      "outputs": []
    },
    {
      "cell_type": "code",
      "source": [
        "Human.population"
      ],
      "metadata": {
        "id": "zGnklO9RoA-Y"
      },
      "execution_count": null,
      "outputs": []
    },
    {
      "cell_type": "code",
      "source": [
        "emp1.dead()"
      ],
      "metadata": {
        "id": "Gl--TMhjoFYT"
      },
      "execution_count": null,
      "outputs": []
    },
    {
      "cell_type": "code",
      "source": [
        "Human.population"
      ],
      "metadata": {
        "id": "_9djit8MoKmZ"
      },
      "execution_count": null,
      "outputs": []
    },
    {
      "cell_type": "code",
      "source": [
        "emp1.dead()"
      ],
      "metadata": {
        "id": "HECdZdWqoOMO"
      },
      "execution_count": null,
      "outputs": []
    },
    {
      "cell_type": "markdown",
      "source": [
        "▶ **Polymorphism in Python**\n",
        "\n",
        "- The word \"Polymorphism\" means having many forms\n",
        "- Same class method can work differently for different objects\n",
        "\n"
      ],
      "metadata": {
        "id": "zVjOG5fn8J_w"
      }
    },
    {
      "cell_type": "markdown",
      "source": [
        "▶ **Operator Level Polymorphism**\n",
        "\n",
        "- Same operator can work differently for different objects\n"
      ],
      "metadata": {
        "id": "0qIm4Vrj8YdM"
      }
    },
    {
      "cell_type": "code",
      "source": [
        "a = 10\n",
        "b = 5"
      ],
      "metadata": {
        "id": "q2t70ZIy9GRV"
      },
      "execution_count": null,
      "outputs": []
    },
    {
      "cell_type": "code",
      "source": [
        "a + b # adding"
      ],
      "metadata": {
        "id": "pmOeQ65aSSxp"
      },
      "execution_count": null,
      "outputs": []
    },
    {
      "cell_type": "code",
      "source": [
        "'22' + '55' # concatenate"
      ],
      "metadata": {
        "id": "CUKRCvIPSYUa"
      },
      "execution_count": null,
      "outputs": []
    },
    {
      "cell_type": "code",
      "source": [
        "\"Mihir\" + \"Chakma\""
      ],
      "metadata": {
        "id": "jvAekkCNTP3r"
      },
      "execution_count": null,
      "outputs": []
    },
    {
      "cell_type": "code",
      "source": [
        "# 2 + '2' # error \n",
        "2 + int('2') # this is ok, becz we convert str into int "
      ],
      "metadata": {
        "id": "BK14TEiASjti"
      },
      "execution_count": null,
      "outputs": []
    },
    {
      "cell_type": "code",
      "source": [
        "2.0 * 2"
      ],
      "metadata": {
        "id": "8qFMqu5ZSYaS"
      },
      "execution_count": null,
      "outputs": []
    },
    {
      "cell_type": "code",
      "source": [
        "2 * 4"
      ],
      "metadata": {
        "id": "MXNupDKpTUGn"
      },
      "execution_count": null,
      "outputs": []
    },
    {
      "cell_type": "code",
      "source": [
        "\"Advaith\" * 3"
      ],
      "metadata": {
        "id": "yt6DZO9pTXiS"
      },
      "execution_count": null,
      "outputs": []
    },
    {
      "cell_type": "markdown",
      "source": [
        "▶ **Function Level Polymorphism**\n",
        "\n",
        "- Here are same functions behaves differently\n"
      ],
      "metadata": {
        "id": "Lg-iYys68hOl"
      }
    },
    {
      "cell_type": "code",
      "source": [
        "# len()\n",
        "# sum()\n",
        "# custom "
      ],
      "metadata": {
        "id": "oTtF2MZp8oj-"
      },
      "execution_count": null,
      "outputs": []
    },
    {
      "cell_type": "code",
      "source": [
        "l = [1, 2, 3, 4]"
      ],
      "metadata": {
        "id": "7hgaq_dkUCBp"
      },
      "execution_count": null,
      "outputs": []
    },
    {
      "cell_type": "code",
      "source": [
        "len(l)"
      ],
      "metadata": {
        "id": "jLmFJmEUVFzs"
      },
      "execution_count": null,
      "outputs": []
    },
    {
      "cell_type": "code",
      "source": [
        "len(\"Advaith\")"
      ],
      "metadata": {
        "id": "HWMdPgDpVJAC"
      },
      "execution_count": null,
      "outputs": []
    },
    {
      "cell_type": "code",
      "source": [
        "# len(234)"
      ],
      "metadata": {
        "id": "UvE4JIWnU874"
      },
      "execution_count": null,
      "outputs": []
    },
    {
      "cell_type": "code",
      "source": [
        "# sum(2345)"
      ],
      "metadata": {
        "id": "Pk9QIK2TVRcu"
      },
      "execution_count": null,
      "outputs": []
    },
    {
      "cell_type": "code",
      "source": [
        "def mul(*args):\n",
        "    total = 1\n",
        "    for i in args:\n",
        "        total *= i\n",
        "\n",
        "    return total"
      ],
      "metadata": {
        "id": "JGJHLKv3VcIO"
      },
      "execution_count": null,
      "outputs": []
    },
    {
      "cell_type": "code",
      "source": [
        "mul(2, 4, 6)"
      ],
      "metadata": {
        "id": "tW6pJ1ZQVzcr"
      },
      "execution_count": null,
      "outputs": []
    },
    {
      "cell_type": "code",
      "source": [
        "class Human:\n",
        "    def speak(self, language):\n",
        "        print('I speak', language)"
      ],
      "metadata": {
        "id": "8k6ij6OIV4Qx"
      },
      "execution_count": null,
      "outputs": []
    },
    {
      "cell_type": "code",
      "source": [
        "h1 = Human()\n",
        "h2 = Human()\n",
        "h3 = Human()"
      ],
      "metadata": {
        "id": "pbpKJi0bWdKf"
      },
      "execution_count": null,
      "outputs": []
    },
    {
      "cell_type": "code",
      "source": [
        "h1.speak(\"Chakma\")"
      ],
      "metadata": {
        "id": "sam3NhS6Wk8G"
      },
      "execution_count": null,
      "outputs": []
    },
    {
      "cell_type": "code",
      "source": [
        "h2.speak(\"English\")"
      ],
      "metadata": {
        "id": "hHhR1VqBWohv"
      },
      "execution_count": null,
      "outputs": []
    },
    {
      "cell_type": "code",
      "source": [
        "h3.speak(\"Sinhala\")"
      ],
      "metadata": {
        "id": "i_YnGPKPWsHA"
      },
      "execution_count": null,
      "outputs": []
    },
    {
      "cell_type": "code",
      "source": [
        "h1.speak(\"Hindi\")"
      ],
      "metadata": {
        "id": "E6VrOr6pWonu"
      },
      "execution_count": null,
      "outputs": []
    },
    {
      "cell_type": "code",
      "source": [
        "h2.speak(\"Korean\")"
      ],
      "metadata": {
        "id": "Wlx5vQUEUCIT"
      },
      "execution_count": null,
      "outputs": []
    },
    {
      "cell_type": "markdown",
      "source": [
        "## **15. File Handling in Python**"
      ],
      "metadata": {
        "id": "gNSxLgR89J2X"
      }
    },
    {
      "cell_type": "markdown",
      "source": [
        "▶ **Intro to File-Handling in Python**\n",
        "\n",
        "- A file is a container in a computer system for storing data\n",
        "- Data is permanently stored\n",
        "\n",
        "\n",
        "**Types of files**\n",
        "\n",
        "- Text\n",
        "- Binary\n"
      ],
      "metadata": {
        "id": "pcwVE6NV65H7"
      }
    },
    {
      "cell_type": "markdown",
      "source": [
        "**Opening a file**\n",
        "\n",
        "- open() : returns a file handle\n",
        "- In order to perform any kind of operations on file first we open it"
      ],
      "metadata": {
        "id": "PqODLmurFxAf"
      }
    },
    {
      "cell_type": "code",
      "source": [
        "# create a file \"name.txt\" "
      ],
      "metadata": {
        "id": "ElJ-eKdtKuMN"
      },
      "execution_count": null,
      "outputs": []
    },
    {
      "cell_type": "code",
      "source": [
        "f = open(\"name.txt\")"
      ],
      "metadata": {
        "id": "cxh1GvxxHsn4"
      },
      "execution_count": null,
      "outputs": []
    },
    {
      "cell_type": "code",
      "source": [
        "type(f)"
      ],
      "metadata": {
        "id": "xpV8kfTl9YrD"
      },
      "execution_count": null,
      "outputs": []
    },
    {
      "cell_type": "code",
      "source": [
        "f.read()"
      ],
      "metadata": {
        "id": "LxQVGXlEIw5H"
      },
      "execution_count": null,
      "outputs": []
    },
    {
      "cell_type": "code",
      "source": [
        "f.close()"
      ],
      "metadata": {
        "id": "Zgu3xwDnH6KM"
      },
      "execution_count": null,
      "outputs": []
    },
    {
      "cell_type": "code",
      "source": [
        "f.closed"
      ],
      "metadata": {
        "id": "3j3eO4YeH5yq"
      },
      "execution_count": null,
      "outputs": []
    },
    {
      "cell_type": "markdown",
      "source": [
        "▶ **File Operations in Python**\n",
        "\n",
        "\n",
        "**Modes of opening a file**\n",
        "\n",
        "- `r` : read only\n",
        "- `w` : write only\n",
        "- `a` : appending data at the end of the file\n",
        "- `wt` : write text\n",
        "- `wb` : write binary\n",
        "- `rb` : read binary\n",
        "- `rt` : read text\n",
        "\n"
      ],
      "metadata": {
        "id": "4nTz9pwB7Blz"
      }
    },
    {
      "cell_type": "code",
      "source": [
        "# create a file \"name.txt\" "
      ],
      "metadata": {
        "id": "RjGzdweOLzEX"
      },
      "execution_count": null,
      "outputs": []
    },
    {
      "cell_type": "code",
      "source": [
        "f = open(\"name.txt\", \"w\")"
      ],
      "metadata": {
        "id": "-FZuOBykKZ5J"
      },
      "execution_count": null,
      "outputs": []
    },
    {
      "cell_type": "code",
      "source": [
        "f.write(\"I am learning Python\")"
      ],
      "metadata": {
        "id": "x6DBNrJwLieN"
      },
      "execution_count": null,
      "outputs": []
    },
    {
      "cell_type": "code",
      "source": [
        "f.close()"
      ],
      "metadata": {
        "id": "90jliPc1Lqft"
      },
      "execution_count": null,
      "outputs": []
    },
    {
      "cell_type": "code",
      "source": [
        "f.read()"
      ],
      "metadata": {
        "id": "SflBTIqmLvSh"
      },
      "execution_count": null,
      "outputs": []
    },
    {
      "cell_type": "markdown",
      "source": [
        "▶ **With Open a File**\n",
        "\n",
        "- Most common way to perform operation on files\n",
        "- It closes the file after performing operations \n"
      ],
      "metadata": {
        "id": "zA5D17XA7Ph6"
      }
    },
    {
      "cell_type": "code",
      "source": [
        "with open(\"name.txt\") as f:\n",
        "    print(f.read())"
      ],
      "metadata": {
        "id": "IIVedUaiRG2Y"
      },
      "execution_count": null,
      "outputs": []
    },
    {
      "cell_type": "code",
      "source": [
        "f.closed"
      ],
      "metadata": {
        "id": "V7f46YS5RHk6"
      },
      "execution_count": null,
      "outputs": []
    },
    {
      "cell_type": "code",
      "source": [
        "with open(\"name.txt\", \"w\") as f:\n",
        "    f.write(\"Hi, I just write a text.\")"
      ],
      "metadata": {
        "id": "5-XDyorORT4N"
      },
      "execution_count": null,
      "outputs": []
    },
    {
      "cell_type": "markdown",
      "source": [
        "▶ **Writing in a File**\n",
        "\n",
        "- You can write both text and binary file\n",
        "- You can either write or append in a file\n",
        "\n"
      ],
      "metadata": {
        "id": "zx16GeNR7Smc"
      }
    },
    {
      "cell_type": "code",
      "source": [
        "# we are creating new file here \n",
        "\n",
        "with open(\"new.txt\", \"w\") as f:\n",
        "    f.write(\"Hi, new file created\")"
      ],
      "metadata": {
        "id": "IBwYJe1wSLfj"
      },
      "execution_count": null,
      "outputs": []
    },
    {
      "cell_type": "code",
      "source": [
        "with open(\"new.txt\", \"w\") as f:\n",
        "    f.write(\"This is updated content of our file \\n\")\n",
        "    f.write(\"This is new file line \\n\")"
      ],
      "metadata": {
        "id": "kUVHSsbFUNxQ"
      },
      "execution_count": null,
      "outputs": []
    },
    {
      "cell_type": "markdown",
      "source": [
        "▶ **Reading a File**\n",
        "\n",
        "- Using read() method, we can read a file\n",
        "- It opens in read only format \n"
      ],
      "metadata": {
        "id": "zQMSuyJS7kRU"
      }
    },
    {
      "cell_type": "code",
      "source": [
        "with open(\"new.txt\", \"r\") as f:\n",
        "    data = f.read()\n",
        "    print(data)"
      ],
      "metadata": {
        "id": "5_XjfbLqR02l"
      },
      "execution_count": null,
      "outputs": []
    },
    {
      "cell_type": "markdown",
      "source": [
        " - `read()` : reads the whole data\n",
        " - `read(l)`: reads data of length l\n",
        " - `tell()`: tells you about the position of file handle\n",
        " - `seek()` : it helps to re-position your file handle\n",
        " - `readlines()` : reads data line by line\n"
      ],
      "metadata": {
        "id": "5SnCQUNw5MTH"
      }
    },
    {
      "cell_type": "code",
      "source": [
        "with open(\"new.txt\", \"r\") as f:\n",
        "\n",
        "    # reading first 4 chars\n",
        "    data = f.read(4)\n",
        "    print(data)\n",
        "\n",
        "    print(f.tell())\n",
        "\n",
        "    # next 10 chars\n",
        "    data = f.read(10)\n",
        "    print(data)\n",
        "\n",
        "    # tell : tell you the position of your file handle\n",
        "    print(f.tell())\n",
        "\n",
        "    # using seek you can reset your file handler\n",
        "    # f.seek(2)\n",
        "    f.seek(0)\n",
        "    print(f.tell())\n",
        "\n",
        "    print(f.read())"
      ],
      "metadata": {
        "id": "v59vd5vgB6Nr"
      },
      "execution_count": null,
      "outputs": []
    },
    {
      "cell_type": "code",
      "source": [
        "# readlines()\n",
        "with open(\"new.txt\", \"r\") as f:\n",
        "    # read all the lines\n",
        "    data = f.readlines()\n",
        "    # print(data)\n",
        "\n",
        "    # read line by line \n",
        "    # data = f.readline()\n",
        "    # print(data)\n",
        "\n",
        "    for i in data:\n",
        "        print(i)"
      ],
      "metadata": {
        "id": "ZCLmFFpS5Y-0"
      },
      "execution_count": null,
      "outputs": []
    },
    {
      "cell_type": "markdown",
      "source": [
        "▶ **Handling Binary File**\n",
        "\n",
        "\n",
        "**Binary Data**\n",
        "\n",
        "- To read binary data we open file in \"rb\" mode\n",
        "- To write binary data we open file in \"wb\" mode \n"
      ],
      "metadata": {
        "id": "ybSOSXK67qxV"
      }
    },
    {
      "cell_type": "code",
      "source": [
        "with open(\"myphoto.png\", \"rb\") as f:\n",
        "    data = f.read()\n",
        "    # print(data)\n",
        "\n",
        "    with open(\"photo.png\", \"wb\") as d:\n",
        "        d.write(data)"
      ],
      "metadata": {
        "id": "2ndk0c_8R0Gv"
      },
      "execution_count": null,
      "outputs": []
    },
    {
      "cell_type": "markdown",
      "source": [
        "▶ **Appending in a File**"
      ],
      "metadata": {
        "id": "TdpuIi-W8tG2"
      }
    },
    {
      "cell_type": "markdown",
      "source": [
        "- This mode help us to append in a file"
      ],
      "metadata": {
        "id": "7QKFUJ7fMwkf"
      }
    },
    {
      "cell_type": "code",
      "source": [
        "with open(\"name.txt\", \"a\") as f:\n",
        "    f.write(\"This is appended data.\\n\")\n"
      ],
      "metadata": {
        "id": "T4xZQ6OY8yXD"
      },
      "execution_count": null,
      "outputs": []
    },
    {
      "cell_type": "markdown",
      "source": [
        "## **16. Error & Exception Handling**"
      ],
      "metadata": {
        "id": "wZaktoPa9QBH"
      }
    },
    {
      "cell_type": "markdown",
      "source": [
        "▶ **Intro to Errors & Exception in Python**"
      ],
      "metadata": {
        "id": "94amJj8Y85Hd"
      }
    },
    {
      "cell_type": "markdown",
      "source": [
        "- When we write a faulty code the execution of program may stop due to the errors\n",
        "- There can be some places where executions can be caused\n",
        "- Errors are caused by wrong syntax\n",
        "- Exceptions are logic based wherein syntax is right but logic isn't. Ex: Zero division \n"
      ],
      "metadata": {
        "id": "naGWs3pHP6s_"
      }
    },
    {
      "cell_type": "code",
      "source": [],
      "metadata": {
        "id": "RnPxumHHP34R"
      },
      "execution_count": null,
      "outputs": []
    },
    {
      "cell_type": "markdown",
      "source": [
        "**Examples of errors**\n",
        "\n",
        "- Syntax Error\n",
        "- NameError\n",
        "- TypeError\n",
        "- File not found\n",
        "- IndentationError\n",
        "- ZeroDivisionError"
      ],
      "metadata": {
        "id": "cqY1iH4Bl0sT"
      }
    },
    {
      "cell_type": "code",
      "source": [
        "# if :"
      ],
      "metadata": {
        "id": "k28EjSSwmJX4"
      },
      "execution_count": null,
      "outputs": []
    },
    {
      "cell_type": "code",
      "source": [
        "# print(a)"
      ],
      "metadata": {
        "id": "TgD72tCrmPJS"
      },
      "execution_count": null,
      "outputs": []
    },
    {
      "cell_type": "code",
      "source": [
        "# 2 + \"2\""
      ],
      "metadata": {
        "id": "YSbD8XlSmVyB"
      },
      "execution_count": null,
      "outputs": []
    },
    {
      "cell_type": "code",
      "source": [
        "# def sum():\n",
        "# print(\"Hello\")"
      ],
      "metadata": {
        "id": "XBmEviePmaBT"
      },
      "execution_count": null,
      "outputs": []
    },
    {
      "cell_type": "code",
      "source": [
        "# 5/0"
      ],
      "metadata": {
        "id": "qjDVTo_om1L6"
      },
      "execution_count": null,
      "outputs": []
    },
    {
      "cell_type": "code",
      "source": [
        "print(dir(__builtins__)) # show all error lists "
      ],
      "metadata": {
        "id": "i_fhQs6FnAi_"
      },
      "execution_count": null,
      "outputs": []
    },
    {
      "cell_type": "markdown",
      "source": [
        "▶ **Try & Except**"
      ],
      "metadata": {
        "id": "xr6ny6GT9EQy"
      }
    },
    {
      "cell_type": "markdown",
      "source": [
        "- `try` : This block handles the error in your code if any of it exists\n",
        "- `except` : This block gives the output that you want to show if your code is faulty \n"
      ],
      "metadata": {
        "id": "PwiZ7BzYnlme"
      }
    },
    {
      "cell_type": "code",
      "source": [
        "a = 10\n",
        "b = 0\n",
        "# b = 3\n",
        "\n",
        "try:\n",
        "    print( a / b)\n",
        "except:\n",
        "    print(\"There is an error in your program. Please, check again before running it.\")\n",
        "\n",
        "\n",
        "print(\"Hello, World!\")"
      ],
      "metadata": {
        "id": "byRI6chHP4Xf",
        "colab": {
          "base_uri": "https://localhost:8080/"
        },
        "outputId": "5e36adb1-9303-4708-855c-acc892a0c532"
      },
      "execution_count": null,
      "outputs": [
        {
          "output_type": "stream",
          "name": "stdout",
          "text": [
            "There is an error in your program. Please, check again before running it.\n",
            "Hello, World!\n"
          ]
        }
      ]
    },
    {
      "cell_type": "markdown",
      "source": [
        "▶ **Except block**"
      ],
      "metadata": {
        "id": "yyymySUm9JeD"
      }
    },
    {
      "cell_type": "markdown",
      "source": [
        "- You can tell the what kind of error using **Exception**"
      ],
      "metadata": {
        "id": "476K5Q4HrafM"
      }
    },
    {
      "cell_type": "code",
      "source": [
        "a = 10\n",
        "b = 0\n",
        "\n",
        "try:\n",
        "    print(a / b)\n",
        "except Exception as e:\n",
        "    print(\"Error :\", e)\n",
        "\n",
        "print(\"Hi, Mihir\")"
      ],
      "metadata": {
        "id": "5fsQDIjpP5R2",
        "colab": {
          "base_uri": "https://localhost:8080/"
        },
        "outputId": "a7e7f56b-02dd-489f-8a7e-afd923589a78"
      },
      "execution_count": null,
      "outputs": [
        {
          "output_type": "stream",
          "name": "stdout",
          "text": [
            "Error : division by zero\n",
            "Hi, Mihir\n"
          ]
        }
      ]
    },
    {
      "cell_type": "markdown",
      "source": [
        "▶ **Finally in Python**"
      ],
      "metadata": {
        "id": "SqemMMD29Nnl"
      }
    },
    {
      "cell_type": "markdown",
      "source": [
        "- This block will be executed in any case\n",
        "- It is helpful when you want to de-allocate resources\n",
        "- Like closing a file or db connection\n"
      ],
      "metadata": {
        "id": "cseGwB4ltEsc"
      }
    },
    {
      "cell_type": "code",
      "source": [
        "a = 10\n",
        "b = 0\n",
        "\n",
        "try:\n",
        "    print('Open file.')\n",
        "    print(a / b)\n",
        "except Exception as e:\n",
        "    print('Error:', e)\n",
        "finally:\n",
        "    print('Close file.')"
      ],
      "metadata": {
        "id": "sbQBSqFk9Sv7",
        "colab": {
          "base_uri": "https://localhost:8080/"
        },
        "outputId": "289818ce-81ec-4987-bbda-a3b7246eb06d"
      },
      "execution_count": null,
      "outputs": [
        {
          "output_type": "stream",
          "name": "stdout",
          "text": [
            "Open file.\n",
            "Error: division by zero\n",
            "Close file.\n"
          ]
        }
      ]
    },
    {
      "cell_type": "code",
      "source": [
        "a = 10\n",
        "b = 5\n",
        "\n",
        "try:\n",
        "    print('Open file.')\n",
        "    print(a / b)\n",
        "except Exception as e:\n",
        "    print('Error:', e)\n",
        "finally:\n",
        "    print('Close file.')"
      ],
      "metadata": {
        "colab": {
          "base_uri": "https://localhost:8080/"
        },
        "id": "70q0dUQCu4GB",
        "outputId": "df895c16-fa7f-4eb2-a3e1-ace30c5161a3"
      },
      "execution_count": null,
      "outputs": [
        {
          "output_type": "stream",
          "name": "stdout",
          "text": [
            "Open file.\n",
            "2.0\n",
            "Close file.\n"
          ]
        }
      ]
    }
  ]
}